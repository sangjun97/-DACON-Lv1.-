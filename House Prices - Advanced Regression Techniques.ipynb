{
 "cells": [
  {
   "cell_type": "markdown",
   "id": "55c6c101",
   "metadata": {},
   "source": [
    "# House Prices - Advanced Regression Techniques"
   ]
  },
  {
   "cell_type": "markdown",
   "id": "13445510",
   "metadata": {},
   "source": [
    "## Predict sales prices and practice feature engineering, RFs, and gradient boosting"
   ]
  },
  {
   "cell_type": "markdown",
   "id": "1dfe966c",
   "metadata": {},
   "source": [
    "## 1. 라이브러리 선언"
   ]
  },
  {
   "cell_type": "code",
   "execution_count": 1,
   "id": "661e531a",
   "metadata": {},
   "outputs": [
    {
     "name": "stdout",
     "output_type": "stream",
     "text": [
      "Requirement already satisfied: lightgbm in c:\\users\\administrator\\anaconda3\\lib\\site-packages (3.3.2)\n",
      "Requirement already satisfied: wheel in c:\\users\\administrator\\anaconda3\\lib\\site-packages (from lightgbm) (0.37.1)\n",
      "Requirement already satisfied: numpy in c:\\users\\administrator\\anaconda3\\lib\\site-packages (from lightgbm) (1.21.5)\n",
      "Requirement already satisfied: scipy in c:\\users\\administrator\\anaconda3\\lib\\site-packages (from lightgbm) (1.7.3)\n",
      "Requirement already satisfied: scikit-learn!=0.22.0 in c:\\users\\administrator\\anaconda3\\lib\\site-packages (from lightgbm) (1.0.2)\n",
      "Requirement already satisfied: joblib>=0.11 in c:\\users\\administrator\\anaconda3\\lib\\site-packages (from scikit-learn!=0.22.0->lightgbm) (1.1.0)\n",
      "Requirement already satisfied: threadpoolctl>=2.0.0 in c:\\users\\administrator\\anaconda3\\lib\\site-packages (from scikit-learn!=0.22.0->lightgbm) (2.2.0)\n",
      "Requirement already satisfied: bayesian-optimization in c:\\users\\administrator\\anaconda3\\lib\\site-packages (1.2.0)\n",
      "Requirement already satisfied: scipy>=0.14.0 in c:\\users\\administrator\\anaconda3\\lib\\site-packages (from bayesian-optimization) (1.7.3)\n",
      "Requirement already satisfied: scikit-learn>=0.18.0 in c:\\users\\administrator\\anaconda3\\lib\\site-packages (from bayesian-optimization) (1.0.2)\n",
      "Requirement already satisfied: numpy>=1.9.0 in c:\\users\\administrator\\anaconda3\\lib\\site-packages (from bayesian-optimization) (1.21.5)\n",
      "Requirement already satisfied: threadpoolctl>=2.0.0 in c:\\users\\administrator\\anaconda3\\lib\\site-packages (from scikit-learn>=0.18.0->bayesian-optimization) (2.2.0)\n",
      "Requirement already satisfied: joblib>=0.11 in c:\\users\\administrator\\anaconda3\\lib\\site-packages (from scikit-learn>=0.18.0->bayesian-optimization) (1.1.0)\n"
     ]
    }
   ],
   "source": [
    "import pandas as pd\n",
    "import seaborn as sns\n",
    "import matplotlib\n",
    "import matplotlib.pyplot as plt\n",
    "from sklearn.model_selection import train_test_split, cross_val_score\n",
    "from sklearn.metrics import accuracy_score\n",
    "!pip install lightgbm\n",
    "from lightgbm import LGBMRegressor\n",
    "!pip install bayesian-optimization\n",
    "from bayes_opt import BayesianOptimization\n",
    "import numpy as np"
   ]
  },
  {
   "cell_type": "markdown",
   "id": "edcd9a38",
   "metadata": {},
   "source": [
    "## 2. EDA & 전처리"
   ]
  },
  {
   "cell_type": "code",
   "execution_count": 3,
   "id": "d35a3908",
   "metadata": {},
   "outputs": [
    {
     "data": {
      "text/html": [
       "<div>\n",
       "<style scoped>\n",
       "    .dataframe tbody tr th:only-of-type {\n",
       "        vertical-align: middle;\n",
       "    }\n",
       "\n",
       "    .dataframe tbody tr th {\n",
       "        vertical-align: top;\n",
       "    }\n",
       "\n",
       "    .dataframe thead th {\n",
       "        text-align: right;\n",
       "    }\n",
       "</style>\n",
       "<table border=\"1\" class=\"dataframe\">\n",
       "  <thead>\n",
       "    <tr style=\"text-align: right;\">\n",
       "      <th></th>\n",
       "      <th>Id</th>\n",
       "      <th>MSSubClass</th>\n",
       "      <th>MSZoning</th>\n",
       "      <th>LotFrontage</th>\n",
       "      <th>LotArea</th>\n",
       "      <th>Street</th>\n",
       "      <th>Alley</th>\n",
       "      <th>LotShape</th>\n",
       "      <th>LandContour</th>\n",
       "      <th>Utilities</th>\n",
       "      <th>...</th>\n",
       "      <th>PoolArea</th>\n",
       "      <th>PoolQC</th>\n",
       "      <th>Fence</th>\n",
       "      <th>MiscFeature</th>\n",
       "      <th>MiscVal</th>\n",
       "      <th>MoSold</th>\n",
       "      <th>YrSold</th>\n",
       "      <th>SaleType</th>\n",
       "      <th>SaleCondition</th>\n",
       "      <th>SalePrice</th>\n",
       "    </tr>\n",
       "  </thead>\n",
       "  <tbody>\n",
       "    <tr>\n",
       "      <th>0</th>\n",
       "      <td>1</td>\n",
       "      <td>60</td>\n",
       "      <td>RL</td>\n",
       "      <td>65.0</td>\n",
       "      <td>8450</td>\n",
       "      <td>Pave</td>\n",
       "      <td>NaN</td>\n",
       "      <td>Reg</td>\n",
       "      <td>Lvl</td>\n",
       "      <td>AllPub</td>\n",
       "      <td>...</td>\n",
       "      <td>0</td>\n",
       "      <td>NaN</td>\n",
       "      <td>NaN</td>\n",
       "      <td>NaN</td>\n",
       "      <td>0</td>\n",
       "      <td>2</td>\n",
       "      <td>2008</td>\n",
       "      <td>WD</td>\n",
       "      <td>Normal</td>\n",
       "      <td>208500</td>\n",
       "    </tr>\n",
       "    <tr>\n",
       "      <th>1</th>\n",
       "      <td>2</td>\n",
       "      <td>20</td>\n",
       "      <td>RL</td>\n",
       "      <td>80.0</td>\n",
       "      <td>9600</td>\n",
       "      <td>Pave</td>\n",
       "      <td>NaN</td>\n",
       "      <td>Reg</td>\n",
       "      <td>Lvl</td>\n",
       "      <td>AllPub</td>\n",
       "      <td>...</td>\n",
       "      <td>0</td>\n",
       "      <td>NaN</td>\n",
       "      <td>NaN</td>\n",
       "      <td>NaN</td>\n",
       "      <td>0</td>\n",
       "      <td>5</td>\n",
       "      <td>2007</td>\n",
       "      <td>WD</td>\n",
       "      <td>Normal</td>\n",
       "      <td>181500</td>\n",
       "    </tr>\n",
       "    <tr>\n",
       "      <th>2</th>\n",
       "      <td>3</td>\n",
       "      <td>60</td>\n",
       "      <td>RL</td>\n",
       "      <td>68.0</td>\n",
       "      <td>11250</td>\n",
       "      <td>Pave</td>\n",
       "      <td>NaN</td>\n",
       "      <td>IR1</td>\n",
       "      <td>Lvl</td>\n",
       "      <td>AllPub</td>\n",
       "      <td>...</td>\n",
       "      <td>0</td>\n",
       "      <td>NaN</td>\n",
       "      <td>NaN</td>\n",
       "      <td>NaN</td>\n",
       "      <td>0</td>\n",
       "      <td>9</td>\n",
       "      <td>2008</td>\n",
       "      <td>WD</td>\n",
       "      <td>Normal</td>\n",
       "      <td>223500</td>\n",
       "    </tr>\n",
       "    <tr>\n",
       "      <th>3</th>\n",
       "      <td>4</td>\n",
       "      <td>70</td>\n",
       "      <td>RL</td>\n",
       "      <td>60.0</td>\n",
       "      <td>9550</td>\n",
       "      <td>Pave</td>\n",
       "      <td>NaN</td>\n",
       "      <td>IR1</td>\n",
       "      <td>Lvl</td>\n",
       "      <td>AllPub</td>\n",
       "      <td>...</td>\n",
       "      <td>0</td>\n",
       "      <td>NaN</td>\n",
       "      <td>NaN</td>\n",
       "      <td>NaN</td>\n",
       "      <td>0</td>\n",
       "      <td>2</td>\n",
       "      <td>2006</td>\n",
       "      <td>WD</td>\n",
       "      <td>Abnorml</td>\n",
       "      <td>140000</td>\n",
       "    </tr>\n",
       "    <tr>\n",
       "      <th>4</th>\n",
       "      <td>5</td>\n",
       "      <td>60</td>\n",
       "      <td>RL</td>\n",
       "      <td>84.0</td>\n",
       "      <td>14260</td>\n",
       "      <td>Pave</td>\n",
       "      <td>NaN</td>\n",
       "      <td>IR1</td>\n",
       "      <td>Lvl</td>\n",
       "      <td>AllPub</td>\n",
       "      <td>...</td>\n",
       "      <td>0</td>\n",
       "      <td>NaN</td>\n",
       "      <td>NaN</td>\n",
       "      <td>NaN</td>\n",
       "      <td>0</td>\n",
       "      <td>12</td>\n",
       "      <td>2008</td>\n",
       "      <td>WD</td>\n",
       "      <td>Normal</td>\n",
       "      <td>250000</td>\n",
       "    </tr>\n",
       "  </tbody>\n",
       "</table>\n",
       "<p>5 rows × 81 columns</p>\n",
       "</div>"
      ],
      "text/plain": [
       "   Id  MSSubClass MSZoning  LotFrontage  LotArea Street Alley LotShape  \\\n",
       "0   1          60       RL         65.0     8450   Pave   NaN      Reg   \n",
       "1   2          20       RL         80.0     9600   Pave   NaN      Reg   \n",
       "2   3          60       RL         68.0    11250   Pave   NaN      IR1   \n",
       "3   4          70       RL         60.0     9550   Pave   NaN      IR1   \n",
       "4   5          60       RL         84.0    14260   Pave   NaN      IR1   \n",
       "\n",
       "  LandContour Utilities  ... PoolArea PoolQC Fence MiscFeature MiscVal MoSold  \\\n",
       "0         Lvl    AllPub  ...        0    NaN   NaN         NaN       0      2   \n",
       "1         Lvl    AllPub  ...        0    NaN   NaN         NaN       0      5   \n",
       "2         Lvl    AllPub  ...        0    NaN   NaN         NaN       0      9   \n",
       "3         Lvl    AllPub  ...        0    NaN   NaN         NaN       0      2   \n",
       "4         Lvl    AllPub  ...        0    NaN   NaN         NaN       0     12   \n",
       "\n",
       "  YrSold  SaleType  SaleCondition  SalePrice  \n",
       "0   2008        WD         Normal     208500  \n",
       "1   2007        WD         Normal     181500  \n",
       "2   2008        WD         Normal     223500  \n",
       "3   2006        WD        Abnorml     140000  \n",
       "4   2008        WD         Normal     250000  \n",
       "\n",
       "[5 rows x 81 columns]"
      ]
     },
     "execution_count": 3,
     "metadata": {},
     "output_type": "execute_result"
    }
   ],
   "source": [
    "train = pd.read_csv('train.csv')\n",
    "test = pd.read_csv('test.csv')\n",
    "train.head()"
   ]
  },
  {
   "cell_type": "code",
   "execution_count": 4,
   "id": "22ea9b71",
   "metadata": {},
   "outputs": [
    {
     "name": "stdout",
     "output_type": "stream",
     "text": [
      "train_shape: (1460, 81)\n",
      "test_shape: (1459, 80)\n"
     ]
    }
   ],
   "source": [
    "print('train_shape:', train.shape)\n",
    "print('test_shape:', test.shape)"
   ]
  },
  {
   "cell_type": "markdown",
   "id": "1988c263",
   "metadata": {},
   "source": [
    "## 2-1. 결측치 확인"
   ]
  },
  {
   "cell_type": "code",
   "execution_count": 6,
   "id": "31dbe07a",
   "metadata": {},
   "outputs": [
    {
     "data": {
      "text/plain": [
       "Id                 0\n",
       "MSSubClass         0\n",
       "MSZoning           0\n",
       "LotFrontage      259\n",
       "LotArea            0\n",
       "                ... \n",
       "MoSold             0\n",
       "YrSold             0\n",
       "SaleType           0\n",
       "SaleCondition      0\n",
       "SalePrice          0\n",
       "Length: 81, dtype: int64"
      ]
     },
     "execution_count": 6,
     "metadata": {},
     "output_type": "execute_result"
    }
   ],
   "source": [
    "train.isnull().sum()"
   ]
  },
  {
   "cell_type": "markdown",
   "id": "9da80a1c",
   "metadata": {},
   "source": [
    "## 2-2. 결측치의 양이 40%가 넘는 칼럼 제거"
   ]
  },
  {
   "cell_type": "code",
   "execution_count": 7,
   "id": "20afe888",
   "metadata": {},
   "outputs": [
    {
     "name": "stdout",
     "output_type": "stream",
     "text": [
      "Alley          0.937671\n",
      "FireplaceQu    0.472603\n",
      "PoolQC         0.995205\n",
      "Fence          0.807534\n",
      "MiscFeature    0.963014\n",
      "dtype: float64\n"
     ]
    }
   ],
   "source": [
    "num_null = train.isnull().sum() / len(train)\n",
    "remove_col = num_null[num_null >= 0.4]\n",
    "print(remove_col)"
   ]
  },
  {
   "cell_type": "code",
   "execution_count": 8,
   "id": "1d50d3a1",
   "metadata": {},
   "outputs": [
    {
     "name": "stdout",
     "output_type": "stream",
     "text": [
      "train_shape: (1460, 76)\n",
      "test_shape: (1459, 75)\n"
     ]
    }
   ],
   "source": [
    "train = train.drop(remove_col.keys(), axis = 1)\n",
    "test = test.drop(remove_col.keys(), axis = 1)\n",
    "print('train_shape:', train.shape)\n",
    "print('test_shape:', test.shape)"
   ]
  },
  {
   "cell_type": "code",
   "execution_count": 9,
   "id": "aa59bd49",
   "metadata": {},
   "outputs": [
    {
     "name": "stdout",
     "output_type": "stream",
     "text": [
      "X_shape: (1460, 75)\n",
      "y_shape: (1460,)\n"
     ]
    }
   ],
   "source": [
    "X = train.drop(['SalePrice'], axis = 1)\n",
    "y = train['SalePrice']\n",
    "print('X_shape:', X.shape)\n",
    "print('y_shape:', y.shape)"
   ]
  },
  {
   "cell_type": "markdown",
   "id": "e174b372",
   "metadata": {},
   "source": [
    "## 2-3. X 데이터와 test 데이터를 합친 뒤 칼럼을 문자와 숫자로 나누고 문자인 칼럼만 One-Hot Encoder 사용"
   ]
  },
  {
   "cell_type": "code",
   "execution_count": 10,
   "id": "443f8a0e",
   "metadata": {},
   "outputs": [
    {
     "name": "stdout",
     "output_type": "stream",
     "text": [
      "boston_shape: (2919, 75)\n"
     ]
    }
   ],
   "source": [
    "boston = pd.concat((X, test), axis = 0)\n",
    "print('boston_shape:', boston.shape)"
   ]
  },
  {
   "cell_type": "code",
   "execution_count": 11,
   "id": "21b38c39",
   "metadata": {},
   "outputs": [
    {
     "name": "stdout",
     "output_type": "stream",
     "text": [
      "object_col: Index(['MSZoning', 'Street', 'LotShape', 'LandContour', 'Utilities',\n",
      "       'LotConfig', 'LandSlope', 'Neighborhood', 'Condition1', 'Condition2',\n",
      "       'BldgType', 'HouseStyle', 'RoofStyle', 'RoofMatl', 'Exterior1st',\n",
      "       'Exterior2nd', 'MasVnrType', 'ExterQual', 'ExterCond', 'Foundation',\n",
      "       'BsmtQual', 'BsmtCond', 'BsmtExposure', 'BsmtFinType1', 'BsmtFinType2',\n",
      "       'Heating', 'HeatingQC', 'CentralAir', 'Electrical', 'KitchenQual',\n",
      "       'Functional', 'GarageType', 'GarageFinish', 'GarageQual', 'GarageCond',\n",
      "       'PavedDrive', 'SaleType', 'SaleCondition'],\n",
      "      dtype='object')\n",
      "num_col: Index(['Id', 'MSSubClass', 'LotFrontage', 'LotArea', 'OverallQual',\n",
      "       'OverallCond', 'YearBuilt', 'YearRemodAdd', 'MasVnrArea', 'BsmtFinSF1',\n",
      "       'BsmtFinSF2', 'BsmtUnfSF', 'TotalBsmtSF', '1stFlrSF', '2ndFlrSF',\n",
      "       'LowQualFinSF', 'GrLivArea', 'BsmtFullBath', 'BsmtHalfBath', 'FullBath',\n",
      "       'HalfBath', 'BedroomAbvGr', 'KitchenAbvGr', 'TotRmsAbvGrd',\n",
      "       'Fireplaces', 'GarageYrBlt', 'GarageCars', 'GarageArea', 'WoodDeckSF',\n",
      "       'OpenPorchSF', 'EnclosedPorch', '3SsnPorch', 'ScreenPorch', 'PoolArea',\n",
      "       'MiscVal', 'MoSold', 'YrSold'],\n",
      "      dtype='object')\n",
      "object_shape: (2919, 38)\n",
      "num_shape: (2919, 37)\n"
     ]
    }
   ],
   "source": [
    "boston_obj = boston.select_dtypes(include = 'object')\n",
    "boston_num = boston.select_dtypes(exclude = 'object')\n",
    "print('object_col:', boston_obj.columns)\n",
    "print('num_col:', boston_num.columns)\n",
    "print('object_shape:', boston_obj.shape)\n",
    "print('num_shape:', boston_num.shape)"
   ]
  },
  {
   "cell_type": "code",
   "execution_count": 12,
   "id": "822dd764",
   "metadata": {},
   "outputs": [
    {
     "name": "stdout",
     "output_type": "stream",
     "text": [
      "boston_dum_shape: (2919, 196)\n"
     ]
    }
   ],
   "source": [
    "boston_dum = pd.get_dummies(boston_obj,drop_first = True)\n",
    "print('boston_dum_shape:', boston_dum.shape)"
   ]
  },
  {
   "cell_type": "code",
   "execution_count": 13,
   "id": "1ec9c68c",
   "metadata": {},
   "outputs": [
    {
     "name": "stdout",
     "output_type": "stream",
     "text": [
      "boston_shape: (2919, 233)\n",
      "boston_len: 2919\n"
     ]
    }
   ],
   "source": [
    "boston = pd.concat([boston_dum,boston_num], axis = 1)\n",
    "print('boston_shape:', boston.shape)\n",
    "print('boston_len:', len(boston))"
   ]
  },
  {
   "cell_type": "code",
   "execution_count": 14,
   "id": "04525880",
   "metadata": {},
   "outputs": [
    {
     "name": "stdout",
     "output_type": "stream",
     "text": [
      "train_one_shape: (1460, 233)\n",
      "test_one_shape: (1459, 233)\n",
      "train_one_head:    MSZoning_FV  MSZoning_RH  MSZoning_RL  MSZoning_RM  Street_Pave  \\\n",
      "0            0            0            1            0            1   \n",
      "1            0            0            1            0            1   \n",
      "2            0            0            1            0            1   \n",
      "3            0            0            1            0            1   \n",
      "4            0            0            1            0            1   \n",
      "\n",
      "   LotShape_IR2  LotShape_IR3  LotShape_Reg  LandContour_HLS  LandContour_Low  \\\n",
      "0             0             0             1                0                0   \n",
      "1             0             0             1                0                0   \n",
      "2             0             0             0                0                0   \n",
      "3             0             0             0                0                0   \n",
      "4             0             0             0                0                0   \n",
      "\n",
      "   ...  GarageArea  WoodDeckSF  OpenPorchSF  EnclosedPorch  3SsnPorch  \\\n",
      "0  ...       548.0           0           61              0          0   \n",
      "1  ...       460.0         298            0              0          0   \n",
      "2  ...       608.0           0           42              0          0   \n",
      "3  ...       642.0           0           35            272          0   \n",
      "4  ...       836.0         192           84              0          0   \n",
      "\n",
      "   ScreenPorch  PoolArea  MiscVal  MoSold  YrSold  \n",
      "0            0         0        0       2    2008  \n",
      "1            0         0        0       5    2007  \n",
      "2            0         0        0       9    2008  \n",
      "3            0         0        0       2    2006  \n",
      "4            0         0        0      12    2008  \n",
      "\n",
      "[5 rows x 233 columns]\n",
      "test_one_head:    MSZoning_FV  MSZoning_RH  MSZoning_RL  MSZoning_RM  Street_Pave  \\\n",
      "0            0            1            0            0            1   \n",
      "1            0            0            1            0            1   \n",
      "2            0            0            1            0            1   \n",
      "3            0            0            1            0            1   \n",
      "4            0            0            1            0            1   \n",
      "\n",
      "   LotShape_IR2  LotShape_IR3  LotShape_Reg  LandContour_HLS  LandContour_Low  \\\n",
      "0             0             0             1                0                0   \n",
      "1             0             0             0                0                0   \n",
      "2             0             0             0                0                0   \n",
      "3             0             0             0                0                0   \n",
      "4             0             0             0                1                0   \n",
      "\n",
      "   ...  GarageArea  WoodDeckSF  OpenPorchSF  EnclosedPorch  3SsnPorch  \\\n",
      "0  ...       730.0         140            0              0          0   \n",
      "1  ...       312.0         393           36              0          0   \n",
      "2  ...       482.0         212           34              0          0   \n",
      "3  ...       470.0         360           36              0          0   \n",
      "4  ...       506.0           0           82              0          0   \n",
      "\n",
      "   ScreenPorch  PoolArea  MiscVal  MoSold  YrSold  \n",
      "0          120         0        0       6    2010  \n",
      "1            0         0    12500       6    2010  \n",
      "2            0         0        0       3    2010  \n",
      "3            0         0        0       6    2010  \n",
      "4          144         0        0       1    2010  \n",
      "\n",
      "[5 rows x 233 columns]\n"
     ]
    }
   ],
   "source": [
    "train_one = boston[:len(X)]\n",
    "test_one = boston[len(X):]\n",
    "print('train_one_shape:', train_one.shape)\n",
    "print('test_one_shape:', test_one.shape)\n",
    "print('train_one_head:', train_one.head())\n",
    "print('test_one_head:', test_one.head())"
   ]
  },
  {
   "cell_type": "code",
   "execution_count": 15,
   "id": "6d295f17",
   "metadata": {},
   "outputs": [],
   "source": [
    "X = train_one"
   ]
  },
  {
   "cell_type": "markdown",
   "id": "4789d4fe",
   "metadata": {},
   "source": [
    "## 3. LGBMRegressor의 하이퍼파라미터를 BayesianOptimization으로 결정 "
   ]
  },
  {
   "cell_type": "markdown",
   "id": "81578007",
   "metadata": {},
   "source": [
    "### 3-1. 하이퍼파라미터 범위"
   ]
  },
  {
   "cell_type": "code",
   "execution_count": 16,
   "id": "ccacea52",
   "metadata": {},
   "outputs": [],
   "source": [
    "lgbm_parameter_bounds = {\n",
    "    'learning_rate':(0.0001,0.01),\n",
    "    'n_estimators' : (10,1000),\n",
    "    'max_depth' : (1,10),\n",
    "    'subsample' : (0.1,1),\n",
    "    'colsample_bytree' : (0.5,1),\n",
    "    'num_leaves': (24, 45),\n",
    "    }"
   ]
  },
  {
   "cell_type": "code",
   "execution_count": 17,
   "id": "88055487",
   "metadata": {},
   "outputs": [],
   "source": [
    "def lgbm_bo(learning_rate, n_estimators, max_depth, subsample, colsample_bytree, num_leaves):\n",
    "    lgbm_params = {\n",
    "        'learning_rate' : float(learning_rate),\n",
    "        'n_estimators' : int(n_estimators),\n",
    "        'max_depth' : int(max_depth),\n",
    "        'subsample' : float(subsample),\n",
    "        'colsample_bytree' : float(colsample_bytree),\n",
    "        'num_leaves' : int(num_leaves),\n",
    "    }\n",
    "    lgbm = LGBMRegressor(**lgbm_params)\n",
    "    X_train, X_valid, y_train, y_valid = train_test_split(X, y, test_size = 0.2)\n",
    "    lgbm.fit(X_train, y_train)\n",
    "    mse_score = cross_val_score(lgbm, X_valid, y_valid, scoring = 'neg_mean_squared_error', cv = 5)\n",
    "    score = np.mean(mse_score)\n",
    "    return score"
   ]
  },
  {
   "cell_type": "markdown",
   "id": "bac00d5c",
   "metadata": {},
   "source": [
    "### 3-2. 점수가 제일 높은 하이퍼파라미터로 LGBMRegressor 적용"
   ]
  },
  {
   "cell_type": "code",
   "execution_count": 19,
   "id": "b7d4f089",
   "metadata": {},
   "outputs": [
    {
     "name": "stdout",
     "output_type": "stream",
     "text": [
      "|   iter    |  target   | colsam... | learni... | max_depth | n_esti... | num_le... | subsample |\n",
      "-------------------------------------------------------------------------------------------------\n",
      "| \u001b[0m 1       \u001b[0m | \u001b[0m-1.834e+0\u001b[0m | \u001b[0m 0.7744  \u001b[0m | \u001b[0m 0.00718 \u001b[0m | \u001b[0m 6.425   \u001b[0m | \u001b[0m 549.4   \u001b[0m | \u001b[0m 32.9    \u001b[0m | \u001b[0m 0.6813  \u001b[0m |\n",
      "| \u001b[95m 2       \u001b[0m | \u001b[95m-1.157e+0\u001b[0m | \u001b[95m 0.7188  \u001b[0m | \u001b[95m 0.008929\u001b[0m | \u001b[95m 9.673   \u001b[0m | \u001b[95m 389.6   \u001b[0m | \u001b[95m 40.63   \u001b[0m | \u001b[95m 0.576   \u001b[0m |\n",
      "| \u001b[0m 3       \u001b[0m | \u001b[0m-2.314e+0\u001b[0m | \u001b[0m 0.784   \u001b[0m | \u001b[0m 0.009263\u001b[0m | \u001b[0m 1.639   \u001b[0m | \u001b[0m 96.26   \u001b[0m | \u001b[0m 24.42   \u001b[0m | \u001b[0m 0.8494  \u001b[0m |\n",
      "| \u001b[95m 4       \u001b[0m | \u001b[95m-9.565e+0\u001b[0m | \u001b[95m 0.8891  \u001b[0m | \u001b[95m 0.008713\u001b[0m | \u001b[95m 9.808   \u001b[0m | \u001b[95m 801.2   \u001b[0m | \u001b[95m 33.69   \u001b[0m | \u001b[95m 0.8025  \u001b[0m |\n",
      "| \u001b[0m 5       \u001b[0m | \u001b[0m-1.523e+0\u001b[0m | \u001b[0m 0.5591  \u001b[0m | \u001b[0m 0.006435\u001b[0m | \u001b[0m 2.29    \u001b[0m | \u001b[0m 945.2   \u001b[0m | \u001b[0m 34.96   \u001b[0m | \u001b[0m 0.4732  \u001b[0m |\n",
      "| \u001b[0m 6       \u001b[0m | \u001b[0m-1.037e+0\u001b[0m | \u001b[0m 0.6323  \u001b[0m | \u001b[0m 0.007765\u001b[0m | \u001b[0m 5.105   \u001b[0m | \u001b[0m 572.7   \u001b[0m | \u001b[0m 24.39   \u001b[0m | \u001b[0m 0.6559  \u001b[0m |\n",
      "| \u001b[95m 7       \u001b[0m | \u001b[95m-8.279e+0\u001b[0m | \u001b[95m 0.806   \u001b[0m | \u001b[95m 0.006208\u001b[0m | \u001b[95m 9.494   \u001b[0m | \u001b[95m 685.0   \u001b[0m | \u001b[95m 31.55   \u001b[0m | \u001b[95m 0.4933  \u001b[0m |\n",
      "| \u001b[0m 8       \u001b[0m | \u001b[0m-3.6e+09 \u001b[0m | \u001b[0m 0.8488  \u001b[0m | \u001b[0m 0.000696\u001b[0m | \u001b[0m 7.001   \u001b[0m | \u001b[0m 673.9   \u001b[0m | \u001b[0m 28.42   \u001b[0m | \u001b[0m 0.216   \u001b[0m |\n",
      "| \u001b[0m 9       \u001b[0m | \u001b[0m-2.029e+0\u001b[0m | \u001b[0m 0.6577  \u001b[0m | \u001b[0m 0.003701\u001b[0m | \u001b[0m 6.132   \u001b[0m | \u001b[0m 444.2   \u001b[0m | \u001b[0m 44.76   \u001b[0m | \u001b[0m 0.1918  \u001b[0m |\n",
      "| \u001b[0m 10      \u001b[0m | \u001b[0m-2.801e+0\u001b[0m | \u001b[0m 0.6044  \u001b[0m | \u001b[0m 0.001697\u001b[0m | \u001b[0m 6.878   \u001b[0m | \u001b[0m 260.8   \u001b[0m | \u001b[0m 33.79   \u001b[0m | \u001b[0m 0.32    \u001b[0m |\n",
      "| \u001b[0m 11      \u001b[0m | \u001b[0m-4.171e+0\u001b[0m | \u001b[0m 0.7572  \u001b[0m | \u001b[0m 0.001456\u001b[0m | \u001b[0m 6.815   \u001b[0m | \u001b[0m 170.6   \u001b[0m | \u001b[0m 42.6    \u001b[0m | \u001b[0m 0.6355  \u001b[0m |\n",
      "| \u001b[0m 12      \u001b[0m | \u001b[0m-1.423e+0\u001b[0m | \u001b[0m 0.9137  \u001b[0m | \u001b[0m 0.009574\u001b[0m | \u001b[0m 9.101   \u001b[0m | \u001b[0m 801.3   \u001b[0m | \u001b[0m 32.59   \u001b[0m | \u001b[0m 0.2378  \u001b[0m |\n",
      "| \u001b[0m 13      \u001b[0m | \u001b[0m-1.612e+0\u001b[0m | \u001b[0m 0.7895  \u001b[0m | \u001b[0m 0.008645\u001b[0m | \u001b[0m 10.0    \u001b[0m | \u001b[0m 689.0   \u001b[0m | \u001b[0m 32.69   \u001b[0m | \u001b[0m 0.5966  \u001b[0m |\n",
      "| \u001b[0m 14      \u001b[0m | \u001b[0m-1.022e+0\u001b[0m | \u001b[0m 0.7644  \u001b[0m | \u001b[0m 0.004759\u001b[0m | \u001b[0m 9.58    \u001b[0m | \u001b[0m 802.7   \u001b[0m | \u001b[0m 38.91   \u001b[0m | \u001b[0m 0.2596  \u001b[0m |\n",
      "| \u001b[0m 15      \u001b[0m | \u001b[0m-1.19e+09\u001b[0m | \u001b[0m 0.8042  \u001b[0m | \u001b[0m 0.007737\u001b[0m | \u001b[0m 9.47    \u001b[0m | \u001b[0m 796.7   \u001b[0m | \u001b[0m 38.42   \u001b[0m | \u001b[0m 0.3887  \u001b[0m |\n",
      "| \u001b[0m 16      \u001b[0m | \u001b[0m-1.011e+0\u001b[0m | \u001b[0m 0.6092  \u001b[0m | \u001b[0m 0.007486\u001b[0m | \u001b[0m 8.144   \u001b[0m | \u001b[0m 682.8   \u001b[0m | \u001b[0m 36.63   \u001b[0m | \u001b[0m 0.2655  \u001b[0m |\n",
      "| \u001b[0m 17      \u001b[0m | \u001b[0m-3.655e+0\u001b[0m | \u001b[0m 0.8576  \u001b[0m | \u001b[0m 0.000899\u001b[0m | \u001b[0m 2.33    \u001b[0m | \u001b[0m 685.7   \u001b[0m | \u001b[0m 33.71   \u001b[0m | \u001b[0m 0.9469  \u001b[0m |\n",
      "| \u001b[0m 18      \u001b[0m | \u001b[0m-1.367e+0\u001b[0m | \u001b[0m 0.9402  \u001b[0m | \u001b[0m 0.007965\u001b[0m | \u001b[0m 4.102   \u001b[0m | \u001b[0m 799.0   \u001b[0m | \u001b[0m 39.37   \u001b[0m | \u001b[0m 0.1647  \u001b[0m |\n",
      "| \u001b[0m 19      \u001b[0m | \u001b[0m-2.258e+0\u001b[0m | \u001b[0m 0.5     \u001b[0m | \u001b[0m 0.01    \u001b[0m | \u001b[0m 10.0    \u001b[0m | \u001b[0m 681.0   \u001b[0m | \u001b[0m 41.68   \u001b[0m | \u001b[0m 0.1     \u001b[0m |\n",
      "| \u001b[0m 20      \u001b[0m | \u001b[0m-2.906e+0\u001b[0m | \u001b[0m 0.9651  \u001b[0m | \u001b[0m 0.000742\u001b[0m | \u001b[0m 9.937   \u001b[0m | \u001b[0m 805.9   \u001b[0m | \u001b[0m 35.41   \u001b[0m | \u001b[0m 0.2703  \u001b[0m |\n",
      "| \u001b[0m 21      \u001b[0m | \u001b[0m-1.274e+0\u001b[0m | \u001b[0m 0.5273  \u001b[0m | \u001b[0m 0.003245\u001b[0m | \u001b[0m 8.535   \u001b[0m | \u001b[0m 800.4   \u001b[0m | \u001b[0m 37.26   \u001b[0m | \u001b[0m 0.5461  \u001b[0m |\n",
      "| \u001b[0m 22      \u001b[0m | \u001b[0m-1.319e+0\u001b[0m | \u001b[0m 0.5559  \u001b[0m | \u001b[0m 0.008287\u001b[0m | \u001b[0m 9.601   \u001b[0m | \u001b[0m 682.1   \u001b[0m | \u001b[0m 33.98   \u001b[0m | \u001b[0m 0.6594  \u001b[0m |\n",
      "| \u001b[0m 23      \u001b[0m | \u001b[0m-1.493e+0\u001b[0m | \u001b[0m 0.7887  \u001b[0m | \u001b[0m 0.007064\u001b[0m | \u001b[0m 9.84    \u001b[0m | \u001b[0m 799.8   \u001b[0m | \u001b[0m 41.99   \u001b[0m | \u001b[0m 0.9436  \u001b[0m |\n",
      "| \u001b[0m 24      \u001b[0m | \u001b[0m-1.875e+0\u001b[0m | \u001b[0m 0.5621  \u001b[0m | \u001b[0m 0.004298\u001b[0m | \u001b[0m 9.305   \u001b[0m | \u001b[0m 683.4   \u001b[0m | \u001b[0m 28.48   \u001b[0m | \u001b[0m 0.9987  \u001b[0m |\n",
      "| \u001b[0m 25      \u001b[0m | \u001b[0m-1.434e+0\u001b[0m | \u001b[0m 0.5683  \u001b[0m | \u001b[0m 0.006069\u001b[0m | \u001b[0m 9.323   \u001b[0m | \u001b[0m 571.9   \u001b[0m | \u001b[0m 24.14   \u001b[0m | \u001b[0m 0.2986  \u001b[0m |\n",
      "| \u001b[0m 26      \u001b[0m | \u001b[0m-1.217e+0\u001b[0m | \u001b[0m 0.7524  \u001b[0m | \u001b[0m 0.004317\u001b[0m | \u001b[0m 6.413   \u001b[0m | \u001b[0m 576.1   \u001b[0m | \u001b[0m 26.5    \u001b[0m | \u001b[0m 0.772   \u001b[0m |\n",
      "| \u001b[0m 27      \u001b[0m | \u001b[0m-3.333e+0\u001b[0m | \u001b[0m 0.8647  \u001b[0m | \u001b[0m 0.000948\u001b[0m | \u001b[0m 9.317   \u001b[0m | \u001b[0m 796.6   \u001b[0m | \u001b[0m 34.1    \u001b[0m | \u001b[0m 0.127   \u001b[0m |\n",
      "| \u001b[0m 28      \u001b[0m | \u001b[0m-1.119e+0\u001b[0m | \u001b[0m 0.8271  \u001b[0m | \u001b[0m 0.00524 \u001b[0m | \u001b[0m 8.36    \u001b[0m | \u001b[0m 685.3   \u001b[0m | \u001b[0m 34.27   \u001b[0m | \u001b[0m 0.5716  \u001b[0m |\n",
      "| \u001b[0m 29      \u001b[0m | \u001b[0m-1.258e+0\u001b[0m | \u001b[0m 0.5     \u001b[0m | \u001b[0m 0.01    \u001b[0m | \u001b[0m 3.375   \u001b[0m | \u001b[0m 575.9   \u001b[0m | \u001b[0m 24.0    \u001b[0m | \u001b[0m 0.1     \u001b[0m |\n",
      "| \u001b[0m 30      \u001b[0m | \u001b[0m-1.342e+0\u001b[0m | \u001b[0m 0.5     \u001b[0m | \u001b[0m 0.01    \u001b[0m | \u001b[0m 3.554   \u001b[0m | \u001b[0m 573.4   \u001b[0m | \u001b[0m 27.72   \u001b[0m | \u001b[0m 0.1     \u001b[0m |\n",
      "| \u001b[95m 31      \u001b[0m | \u001b[95m-8.126e+0\u001b[0m | \u001b[95m 0.5347  \u001b[0m | \u001b[95m 0.007487\u001b[0m | \u001b[95m 6.019   \u001b[0m | \u001b[95m 803.6   \u001b[0m | \u001b[95m 39.6    \u001b[0m | \u001b[95m 0.5729  \u001b[0m |\n",
      "| \u001b[0m 32      \u001b[0m | \u001b[0m-4.441e+0\u001b[0m | \u001b[0m 1.0     \u001b[0m | \u001b[0m 0.0001  \u001b[0m | \u001b[0m 7.365   \u001b[0m | \u001b[0m 804.1   \u001b[0m | \u001b[0m 42.6    \u001b[0m | \u001b[0m 0.1     \u001b[0m |\n",
      "| \u001b[0m 33      \u001b[0m | \u001b[0m-4.411e+0\u001b[0m | \u001b[0m 0.9147  \u001b[0m | \u001b[0m 0.000584\u001b[0m | \u001b[0m 5.619   \u001b[0m | \u001b[0m 804.0   \u001b[0m | \u001b[0m 37.77   \u001b[0m | \u001b[0m 0.417   \u001b[0m |\n",
      "| \u001b[0m 34      \u001b[0m | \u001b[0m-1.669e+0\u001b[0m | \u001b[0m 0.8446  \u001b[0m | \u001b[0m 0.003948\u001b[0m | \u001b[0m 9.155   \u001b[0m | \u001b[0m 801.1   \u001b[0m | \u001b[0m 33.51   \u001b[0m | \u001b[0m 0.7427  \u001b[0m |\n",
      "| \u001b[0m 35      \u001b[0m | \u001b[0m-1.394e+0\u001b[0m | \u001b[0m 0.9244  \u001b[0m | \u001b[0m 0.005874\u001b[0m | \u001b[0m 9.763   \u001b[0m | \u001b[0m 800.6   \u001b[0m | \u001b[0m 33.34   \u001b[0m | \u001b[0m 0.3332  \u001b[0m |\n",
      "| \u001b[0m 36      \u001b[0m | \u001b[0m-1.702e+0\u001b[0m | \u001b[0m 0.5394  \u001b[0m | \u001b[0m 0.008781\u001b[0m | \u001b[0m 7.959   \u001b[0m | \u001b[0m 683.7   \u001b[0m | \u001b[0m 37.62   \u001b[0m | \u001b[0m 0.2997  \u001b[0m |\n",
      "| \u001b[0m 37      \u001b[0m | \u001b[0m-1.145e+0\u001b[0m | \u001b[0m 0.5836  \u001b[0m | \u001b[0m 0.008541\u001b[0m | \u001b[0m 4.468   \u001b[0m | \u001b[0m 574.0   \u001b[0m | \u001b[0m 24.42   \u001b[0m | \u001b[0m 0.4387  \u001b[0m |\n",
      "| \u001b[0m 38      \u001b[0m | \u001b[0m-2.481e+0\u001b[0m | \u001b[0m 0.619   \u001b[0m | \u001b[0m 0.00284 \u001b[0m | \u001b[0m 8.722   \u001b[0m | \u001b[0m 685.1   \u001b[0m | \u001b[0m 32.24   \u001b[0m | \u001b[0m 0.3813  \u001b[0m |\n",
      "| \u001b[0m 39      \u001b[0m | \u001b[0m-9.791e+0\u001b[0m | \u001b[0m 0.6229  \u001b[0m | \u001b[0m 0.007303\u001b[0m | \u001b[0m 5.153   \u001b[0m | \u001b[0m 572.9   \u001b[0m | \u001b[0m 25.22   \u001b[0m | \u001b[0m 0.2659  \u001b[0m |\n",
      "| \u001b[95m 40      \u001b[0m | \u001b[95m-7.821e+0\u001b[0m | \u001b[95m 0.9219  \u001b[0m | \u001b[95m 0.009984\u001b[0m | \u001b[95m 6.003   \u001b[0m | \u001b[95m 573.7   \u001b[0m | \u001b[95m 24.99   \u001b[0m | \u001b[95m 0.6128  \u001b[0m |\n",
      "| \u001b[0m 41      \u001b[0m | \u001b[0m-5.582e+0\u001b[0m | \u001b[0m 0.5     \u001b[0m | \u001b[0m 0.0001  \u001b[0m | \u001b[0m 5.807   \u001b[0m | \u001b[0m 574.1   \u001b[0m | \u001b[0m 24.0    \u001b[0m | \u001b[0m 1.0     \u001b[0m |\n",
      "| \u001b[0m 42      \u001b[0m | \u001b[0m-1.968e+0\u001b[0m | \u001b[0m 0.8764  \u001b[0m | \u001b[0m 0.001775\u001b[0m | \u001b[0m 9.286   \u001b[0m | \u001b[0m 796.6   \u001b[0m | \u001b[0m 38.12   \u001b[0m | \u001b[0m 0.1116  \u001b[0m |\n",
      "| \u001b[0m 43      \u001b[0m | \u001b[0m-3.059e+0\u001b[0m | \u001b[0m 0.572   \u001b[0m | \u001b[0m 0.001799\u001b[0m | \u001b[0m 9.557   \u001b[0m | \u001b[0m 684.7   \u001b[0m | \u001b[0m 31.78   \u001b[0m | \u001b[0m 0.6296  \u001b[0m |\n",
      "| \u001b[0m 44      \u001b[0m | \u001b[0m-1.591e+0\u001b[0m | \u001b[0m 0.9426  \u001b[0m | \u001b[0m 0.008989\u001b[0m | \u001b[0m 4.031   \u001b[0m | \u001b[0m 907.3   \u001b[0m | \u001b[0m 36.47   \u001b[0m | \u001b[0m 0.1111  \u001b[0m |\n",
      "| \u001b[0m 45      \u001b[0m | \u001b[0m-3.997e+0\u001b[0m | \u001b[0m 0.7332  \u001b[0m | \u001b[0m 0.000769\u001b[0m | \u001b[0m 2.493   \u001b[0m | \u001b[0m 806.4   \u001b[0m | \u001b[0m 36.69   \u001b[0m | \u001b[0m 0.3039  \u001b[0m |\n",
      "| \u001b[0m 46      \u001b[0m | \u001b[0m-5.068e+0\u001b[0m | \u001b[0m 0.7022  \u001b[0m | \u001b[0m 0.004336\u001b[0m | \u001b[0m 2.601   \u001b[0m | \u001b[0m 51.6    \u001b[0m | \u001b[0m 38.27   \u001b[0m | \u001b[0m 0.587   \u001b[0m |\n",
      "| \u001b[0m 47      \u001b[0m | \u001b[0m-1.056e+0\u001b[0m | \u001b[0m 0.9015  \u001b[0m | \u001b[0m 0.007793\u001b[0m | \u001b[0m 8.287   \u001b[0m | \u001b[0m 582.5   \u001b[0m | \u001b[0m 24.8    \u001b[0m | \u001b[0m 0.9486  \u001b[0m |\n",
      "| \u001b[0m 48      \u001b[0m | \u001b[0m-1.614e+0\u001b[0m | \u001b[0m 0.877   \u001b[0m | \u001b[0m 0.00463 \u001b[0m | \u001b[0m 8.386   \u001b[0m | \u001b[0m 317.3   \u001b[0m | \u001b[0m 33.02   \u001b[0m | \u001b[0m 0.5014  \u001b[0m |\n",
      "| \u001b[0m 49      \u001b[0m | \u001b[0m-2.823e+0\u001b[0m | \u001b[0m 0.8663  \u001b[0m | \u001b[0m 0.003125\u001b[0m | \u001b[0m 5.94    \u001b[0m | \u001b[0m 309.8   \u001b[0m | \u001b[0m 37.03   \u001b[0m | \u001b[0m 0.1377  \u001b[0m |\n",
      "| \u001b[0m 50      \u001b[0m | \u001b[0m-2.156e+0\u001b[0m | \u001b[0m 0.9966  \u001b[0m | \u001b[0m 0.007504\u001b[0m | \u001b[0m 6.751   \u001b[0m | \u001b[0m 616.2   \u001b[0m | \u001b[0m 34.03   \u001b[0m | \u001b[0m 0.4814  \u001b[0m |\n",
      "| \u001b[0m 51      \u001b[0m | \u001b[0m-5.767e+0\u001b[0m | \u001b[0m 0.9778  \u001b[0m | \u001b[0m 0.00575 \u001b[0m | \u001b[0m 3.118   \u001b[0m | \u001b[0m 34.18   \u001b[0m | \u001b[0m 32.79   \u001b[0m | \u001b[0m 0.557   \u001b[0m |\n"
     ]
    },
    {
     "name": "stdout",
     "output_type": "stream",
     "text": [
      "| \u001b[0m 52      \u001b[0m | \u001b[0m-1.676e+0\u001b[0m | \u001b[0m 0.9508  \u001b[0m | \u001b[0m 0.00595 \u001b[0m | \u001b[0m 5.721   \u001b[0m | \u001b[0m 484.8   \u001b[0m | \u001b[0m 40.94   \u001b[0m | \u001b[0m 0.9447  \u001b[0m |\n",
      "| \u001b[0m 53      \u001b[0m | \u001b[0m-8.499e+0\u001b[0m | \u001b[0m 0.5435  \u001b[0m | \u001b[0m 0.00674 \u001b[0m | \u001b[0m 4.441   \u001b[0m | \u001b[0m 823.1   \u001b[0m | \u001b[0m 41.28   \u001b[0m | \u001b[0m 0.8678  \u001b[0m |\n",
      "| \u001b[0m 54      \u001b[0m | \u001b[0m-1.125e+0\u001b[0m | \u001b[0m 0.5314  \u001b[0m | \u001b[0m 0.005631\u001b[0m | \u001b[0m 2.112   \u001b[0m | \u001b[0m 780.3   \u001b[0m | \u001b[0m 41.31   \u001b[0m | \u001b[0m 0.6751  \u001b[0m |\n",
      "| \u001b[0m 55      \u001b[0m | \u001b[0m-3.068e+0\u001b[0m | \u001b[0m 0.7347  \u001b[0m | \u001b[0m 0.001013\u001b[0m | \u001b[0m 4.977   \u001b[0m | \u001b[0m 957.9   \u001b[0m | \u001b[0m 35.04   \u001b[0m | \u001b[0m 0.5515  \u001b[0m |\n",
      "| \u001b[0m 56      \u001b[0m | \u001b[0m-1.641e+0\u001b[0m | \u001b[0m 0.6326  \u001b[0m | \u001b[0m 0.003608\u001b[0m | \u001b[0m 6.579   \u001b[0m | \u001b[0m 484.9   \u001b[0m | \u001b[0m 41.89   \u001b[0m | \u001b[0m 0.7965  \u001b[0m |\n",
      "| \u001b[0m 57      \u001b[0m | \u001b[0m-8.125e+0\u001b[0m | \u001b[0m 0.7255  \u001b[0m | \u001b[0m 0.007666\u001b[0m | \u001b[0m 9.251   \u001b[0m | \u001b[0m 622.1   \u001b[0m | \u001b[0m 34.02   \u001b[0m | \u001b[0m 0.3018  \u001b[0m |\n",
      "| \u001b[0m 58      \u001b[0m | \u001b[0m-8.925e+0\u001b[0m | \u001b[0m 0.6505  \u001b[0m | \u001b[0m 0.007301\u001b[0m | \u001b[0m 9.068   \u001b[0m | \u001b[0m 320.7   \u001b[0m | \u001b[0m 38.99   \u001b[0m | \u001b[0m 0.3562  \u001b[0m |\n",
      "| \u001b[0m 59      \u001b[0m | \u001b[0m-1.988e+0\u001b[0m | \u001b[0m 0.9102  \u001b[0m | \u001b[0m 0.005017\u001b[0m | \u001b[0m 1.225   \u001b[0m | \u001b[0m 564.4   \u001b[0m | \u001b[0m 30.22   \u001b[0m | \u001b[0m 0.7991  \u001b[0m |\n",
      "| \u001b[0m 60      \u001b[0m | \u001b[0m-1.292e+0\u001b[0m | \u001b[0m 0.7459  \u001b[0m | \u001b[0m 0.008653\u001b[0m | \u001b[0m 5.018   \u001b[0m | \u001b[0m 592.1   \u001b[0m | \u001b[0m 36.97   \u001b[0m | \u001b[0m 0.7226  \u001b[0m |\n",
      "| \u001b[0m 61      \u001b[0m | \u001b[0m-1.295e+0\u001b[0m | \u001b[0m 0.8894  \u001b[0m | \u001b[0m 0.003998\u001b[0m | \u001b[0m 8.294   \u001b[0m | \u001b[0m 545.5   \u001b[0m | \u001b[0m 40.35   \u001b[0m | \u001b[0m 0.3223  \u001b[0m |\n",
      "| \u001b[0m 62      \u001b[0m | \u001b[0m-5.552e+0\u001b[0m | \u001b[0m 0.6017  \u001b[0m | \u001b[0m 0.000786\u001b[0m | \u001b[0m 9.97    \u001b[0m | \u001b[0m 122.8   \u001b[0m | \u001b[0m 44.54   \u001b[0m | \u001b[0m 0.8654  \u001b[0m |\n",
      "| \u001b[0m 63      \u001b[0m | \u001b[0m-1.096e+0\u001b[0m | \u001b[0m 0.7417  \u001b[0m | \u001b[0m 0.008332\u001b[0m | \u001b[0m 8.694   \u001b[0m | \u001b[0m 804.1   \u001b[0m | \u001b[0m 31.44   \u001b[0m | \u001b[0m 0.7365  \u001b[0m |\n",
      "| \u001b[0m 64      \u001b[0m | \u001b[0m-2.866e+0\u001b[0m | \u001b[0m 0.5612  \u001b[0m | \u001b[0m 0.003024\u001b[0m | \u001b[0m 6.455   \u001b[0m | \u001b[0m 211.2   \u001b[0m | \u001b[0m 38.73   \u001b[0m | \u001b[0m 0.6577  \u001b[0m |\n",
      "| \u001b[0m 65      \u001b[0m | \u001b[0m-1.527e+0\u001b[0m | \u001b[0m 0.7064  \u001b[0m | \u001b[0m 0.005278\u001b[0m | \u001b[0m 8.005   \u001b[0m | \u001b[0m 884.4   \u001b[0m | \u001b[0m 40.25   \u001b[0m | \u001b[0m 0.437   \u001b[0m |\n",
      "| \u001b[0m 66      \u001b[0m | \u001b[0m-2.443e+0\u001b[0m | \u001b[0m 0.8339  \u001b[0m | \u001b[0m 0.002762\u001b[0m | \u001b[0m 3.484   \u001b[0m | \u001b[0m 430.2   \u001b[0m | \u001b[0m 25.82   \u001b[0m | \u001b[0m 0.1478  \u001b[0m |\n",
      "| \u001b[0m 67      \u001b[0m | \u001b[0m-1.399e+0\u001b[0m | \u001b[0m 0.6138  \u001b[0m | \u001b[0m 0.005193\u001b[0m | \u001b[0m 8.325   \u001b[0m | \u001b[0m 545.5   \u001b[0m | \u001b[0m 36.19   \u001b[0m | \u001b[0m 0.8096  \u001b[0m |\n",
      "| \u001b[0m 68      \u001b[0m | \u001b[0m-1.861e+0\u001b[0m | \u001b[0m 0.9839  \u001b[0m | \u001b[0m 0.006048\u001b[0m | \u001b[0m 1.276   \u001b[0m | \u001b[0m 701.1   \u001b[0m | \u001b[0m 29.26   \u001b[0m | \u001b[0m 0.703   \u001b[0m |\n",
      "| \u001b[0m 69      \u001b[0m | \u001b[0m-4.821e+0\u001b[0m | \u001b[0m 0.8051  \u001b[0m | \u001b[0m 0.003122\u001b[0m | \u001b[0m 7.119   \u001b[0m | \u001b[0m 64.36   \u001b[0m | \u001b[0m 35.95   \u001b[0m | \u001b[0m 0.353   \u001b[0m |\n",
      "| \u001b[0m 70      \u001b[0m | \u001b[0m-3.686e+0\u001b[0m | \u001b[0m 0.6727  \u001b[0m | \u001b[0m 0.005553\u001b[0m | \u001b[0m 8.075   \u001b[0m | \u001b[0m 141.5   \u001b[0m | \u001b[0m 26.11   \u001b[0m | \u001b[0m 0.3865  \u001b[0m |\n",
      "| \u001b[0m 71      \u001b[0m | \u001b[0m-2.245e+0\u001b[0m | \u001b[0m 0.5796  \u001b[0m | \u001b[0m 0.00259 \u001b[0m | \u001b[0m 7.25    \u001b[0m | \u001b[0m 559.0   \u001b[0m | \u001b[0m 29.12   \u001b[0m | \u001b[0m 0.4105  \u001b[0m |\n",
      "| \u001b[0m 72      \u001b[0m | \u001b[0m-2.107e+0\u001b[0m | \u001b[0m 0.8041  \u001b[0m | \u001b[0m 0.008283\u001b[0m | \u001b[0m 2.323   \u001b[0m | \u001b[0m 258.6   \u001b[0m | \u001b[0m 31.48   \u001b[0m | \u001b[0m 0.6886  \u001b[0m |\n",
      "| \u001b[0m 73      \u001b[0m | \u001b[0m-5.568e+0\u001b[0m | \u001b[0m 0.6579  \u001b[0m | \u001b[0m 0.00995 \u001b[0m | \u001b[0m 5.239   \u001b[0m | \u001b[0m 20.51   \u001b[0m | \u001b[0m 24.2    \u001b[0m | \u001b[0m 0.7754  \u001b[0m |\n",
      "| \u001b[0m 74      \u001b[0m | \u001b[0m-1.098e+0\u001b[0m | \u001b[0m 0.8501  \u001b[0m | \u001b[0m 0.008953\u001b[0m | \u001b[0m 6.655   \u001b[0m | \u001b[0m 763.6   \u001b[0m | \u001b[0m 42.32   \u001b[0m | \u001b[0m 0.1046  \u001b[0m |\n",
      "| \u001b[0m 75      \u001b[0m | \u001b[0m-1.788e+0\u001b[0m | \u001b[0m 0.5862  \u001b[0m | \u001b[0m 0.002052\u001b[0m | \u001b[0m 3.329   \u001b[0m | \u001b[0m 672.3   \u001b[0m | \u001b[0m 28.97   \u001b[0m | \u001b[0m 0.8008  \u001b[0m |\n",
      "| \u001b[0m 76      \u001b[0m | \u001b[0m-1.066e+0\u001b[0m | \u001b[0m 0.5532  \u001b[0m | \u001b[0m 0.009816\u001b[0m | \u001b[0m 3.648   \u001b[0m | \u001b[0m 964.9   \u001b[0m | \u001b[0m 38.82   \u001b[0m | \u001b[0m 0.2803  \u001b[0m |\n",
      "| \u001b[0m 77      \u001b[0m | \u001b[0m-3.165e+0\u001b[0m | \u001b[0m 0.731   \u001b[0m | \u001b[0m 0.007911\u001b[0m | \u001b[0m 6.235   \u001b[0m | \u001b[0m 118.3   \u001b[0m | \u001b[0m 44.68   \u001b[0m | \u001b[0m 0.8431  \u001b[0m |\n",
      "| \u001b[0m 78      \u001b[0m | \u001b[0m-3.927e+0\u001b[0m | \u001b[0m 0.7096  \u001b[0m | \u001b[0m 0.001778\u001b[0m | \u001b[0m 2.111   \u001b[0m | \u001b[0m 389.8   \u001b[0m | \u001b[0m 44.0    \u001b[0m | \u001b[0m 0.5699  \u001b[0m |\n",
      "| \u001b[0m 79      \u001b[0m | \u001b[0m-1.475e+0\u001b[0m | \u001b[0m 0.7862  \u001b[0m | \u001b[0m 0.003107\u001b[0m | \u001b[0m 8.658   \u001b[0m | \u001b[0m 882.1   \u001b[0m | \u001b[0m 28.63   \u001b[0m | \u001b[0m 0.8785  \u001b[0m |\n",
      "| \u001b[0m 80      \u001b[0m | \u001b[0m-3.137e+0\u001b[0m | \u001b[0m 0.5228  \u001b[0m | \u001b[0m 0.003649\u001b[0m | \u001b[0m 5.729   \u001b[0m | \u001b[0m 257.5   \u001b[0m | \u001b[0m 38.61   \u001b[0m | \u001b[0m 0.1889  \u001b[0m |\n",
      "| \u001b[0m 81      \u001b[0m | \u001b[0m-2.94e+09\u001b[0m | \u001b[0m 0.8631  \u001b[0m | \u001b[0m 0.001322\u001b[0m | \u001b[0m 9.215   \u001b[0m | \u001b[0m 465.8   \u001b[0m | \u001b[0m 29.94   \u001b[0m | \u001b[0m 0.2018  \u001b[0m |\n",
      "| \u001b[0m 82      \u001b[0m | \u001b[0m-1.119e+0\u001b[0m | \u001b[0m 0.5252  \u001b[0m | \u001b[0m 0.004026\u001b[0m | \u001b[0m 2.485   \u001b[0m | \u001b[0m 563.0   \u001b[0m | \u001b[0m 31.88   \u001b[0m | \u001b[0m 0.9433  \u001b[0m |\n",
      "| \u001b[0m 83      \u001b[0m | \u001b[0m-9.162e+0\u001b[0m | \u001b[0m 0.5462  \u001b[0m | \u001b[0m 0.004878\u001b[0m | \u001b[0m 8.123   \u001b[0m | \u001b[0m 943.1   \u001b[0m | \u001b[0m 34.0    \u001b[0m | \u001b[0m 0.8186  \u001b[0m |\n",
      "| \u001b[0m 84      \u001b[0m | \u001b[0m-4.141e+0\u001b[0m | \u001b[0m 0.509   \u001b[0m | \u001b[0m 0.001994\u001b[0m | \u001b[0m 7.007   \u001b[0m | \u001b[0m 214.9   \u001b[0m | \u001b[0m 26.96   \u001b[0m | \u001b[0m 0.9601  \u001b[0m |\n",
      "| \u001b[0m 85      \u001b[0m | \u001b[0m-2.958e+0\u001b[0m | \u001b[0m 0.5962  \u001b[0m | \u001b[0m 0.001069\u001b[0m | \u001b[0m 2.54    \u001b[0m | \u001b[0m 576.2   \u001b[0m | \u001b[0m 32.38   \u001b[0m | \u001b[0m 0.8154  \u001b[0m |\n",
      "| \u001b[0m 86      \u001b[0m | \u001b[0m-3.519e+0\u001b[0m | \u001b[0m 0.8677  \u001b[0m | \u001b[0m 0.000904\u001b[0m | \u001b[0m 3.338   \u001b[0m | \u001b[0m 591.5   \u001b[0m | \u001b[0m 34.57   \u001b[0m | \u001b[0m 0.9612  \u001b[0m |\n",
      "| \u001b[95m 87      \u001b[0m | \u001b[95m-6.663e+0\u001b[0m | \u001b[95m 0.8238  \u001b[0m | \u001b[95m 0.008952\u001b[0m | \u001b[95m 9.709   \u001b[0m | \u001b[95m 504.0   \u001b[0m | \u001b[95m 31.22   \u001b[0m | \u001b[95m 0.775   \u001b[0m |\n",
      "| \u001b[0m 88      \u001b[0m | \u001b[0m-2.431e+0\u001b[0m | \u001b[0m 0.6679  \u001b[0m | \u001b[0m 0.007087\u001b[0m | \u001b[0m 3.282   \u001b[0m | \u001b[0m 185.3   \u001b[0m | \u001b[0m 37.04   \u001b[0m | \u001b[0m 0.5089  \u001b[0m |\n",
      "| \u001b[0m 89      \u001b[0m | \u001b[0m-1.682e+0\u001b[0m | \u001b[0m 0.6872  \u001b[0m | \u001b[0m 0.007557\u001b[0m | \u001b[0m 6.371   \u001b[0m | \u001b[0m 140.5   \u001b[0m | \u001b[0m 43.7    \u001b[0m | \u001b[0m 0.6472  \u001b[0m |\n",
      "| \u001b[0m 90      \u001b[0m | \u001b[0m-9.699e+0\u001b[0m | \u001b[0m 0.7264  \u001b[0m | \u001b[0m 0.006651\u001b[0m | \u001b[0m 6.373   \u001b[0m | \u001b[0m 795.9   \u001b[0m | \u001b[0m 38.67   \u001b[0m | \u001b[0m 0.6969  \u001b[0m |\n",
      "| \u001b[0m 91      \u001b[0m | \u001b[0m-1.106e+0\u001b[0m | \u001b[0m 0.9044  \u001b[0m | \u001b[0m 0.009938\u001b[0m | \u001b[0m 5.36    \u001b[0m | \u001b[0m 762.7   \u001b[0m | \u001b[0m 33.57   \u001b[0m | \u001b[0m 0.1525  \u001b[0m |\n",
      "| \u001b[0m 92      \u001b[0m | \u001b[0m-1.031e+0\u001b[0m | \u001b[0m 0.5095  \u001b[0m | \u001b[0m 0.007826\u001b[0m | \u001b[0m 7.783   \u001b[0m | \u001b[0m 610.7   \u001b[0m | \u001b[0m 25.84   \u001b[0m | \u001b[0m 0.7244  \u001b[0m |\n",
      "| \u001b[0m 93      \u001b[0m | \u001b[0m-1.746e+0\u001b[0m | \u001b[0m 0.6566  \u001b[0m | \u001b[0m 0.001923\u001b[0m | \u001b[0m 2.835   \u001b[0m | \u001b[0m 738.7   \u001b[0m | \u001b[0m 30.21   \u001b[0m | \u001b[0m 0.6388  \u001b[0m |\n",
      "| \u001b[0m 94      \u001b[0m | \u001b[0m-3.524e+0\u001b[0m | \u001b[0m 0.7161  \u001b[0m | \u001b[0m 0.001066\u001b[0m | \u001b[0m 2.481   \u001b[0m | \u001b[0m 864.6   \u001b[0m | \u001b[0m 33.34   \u001b[0m | \u001b[0m 0.2996  \u001b[0m |\n",
      "| \u001b[0m 95      \u001b[0m | \u001b[0m-6.335e+0\u001b[0m | \u001b[0m 0.9628  \u001b[0m | \u001b[0m 0.001338\u001b[0m | \u001b[0m 8.023   \u001b[0m | \u001b[0m 28.73   \u001b[0m | \u001b[0m 43.35   \u001b[0m | \u001b[0m 0.6775  \u001b[0m |\n",
      "| \u001b[0m 96      \u001b[0m | \u001b[0m-1.986e+0\u001b[0m | \u001b[0m 0.5753  \u001b[0m | \u001b[0m 0.004078\u001b[0m | \u001b[0m 1.317   \u001b[0m | \u001b[0m 474.0   \u001b[0m | \u001b[0m 39.95   \u001b[0m | \u001b[0m 0.1134  \u001b[0m |\n",
      "| \u001b[0m 97      \u001b[0m | \u001b[0m-2.336e+0\u001b[0m | \u001b[0m 0.9948  \u001b[0m | \u001b[0m 0.004893\u001b[0m | \u001b[0m 4.481   \u001b[0m | \u001b[0m 229.5   \u001b[0m | \u001b[0m 42.09   \u001b[0m | \u001b[0m 0.5992  \u001b[0m |\n",
      "| \u001b[0m 98      \u001b[0m | \u001b[0m-2.992e+0\u001b[0m | \u001b[0m 0.8619  \u001b[0m | \u001b[0m 0.003858\u001b[0m | \u001b[0m 4.122   \u001b[0m | \u001b[0m 184.8   \u001b[0m | \u001b[0m 44.9    \u001b[0m | \u001b[0m 0.7806  \u001b[0m |\n",
      "| \u001b[0m 99      \u001b[0m | \u001b[0m-9.408e+0\u001b[0m | \u001b[0m 0.6463  \u001b[0m | \u001b[0m 0.00808 \u001b[0m | \u001b[0m 9.408   \u001b[0m | \u001b[0m 732.2   \u001b[0m | \u001b[0m 38.98   \u001b[0m | \u001b[0m 0.6145  \u001b[0m |\n",
      "| \u001b[0m 100     \u001b[0m | \u001b[0m-3.906e+0\u001b[0m | \u001b[0m 0.9457  \u001b[0m | \u001b[0m 0.002829\u001b[0m | \u001b[0m 2.51    \u001b[0m | \u001b[0m 165.9   \u001b[0m | \u001b[0m 41.51   \u001b[0m | \u001b[0m 0.7095  \u001b[0m |\n",
      "| \u001b[0m 101     \u001b[0m | \u001b[0m-4.191e+0\u001b[0m | \u001b[0m 0.8936  \u001b[0m | \u001b[0m 0.005818\u001b[0m | \u001b[0m 3.082   \u001b[0m | \u001b[0m 94.43   \u001b[0m | \u001b[0m 39.98   \u001b[0m | \u001b[0m 0.2277  \u001b[0m |\n",
      "| \u001b[0m 102     \u001b[0m | \u001b[0m-2.159e+0\u001b[0m | \u001b[0m 0.9627  \u001b[0m | \u001b[0m 0.008007\u001b[0m | \u001b[0m 2.488   \u001b[0m | \u001b[0m 509.7   \u001b[0m | \u001b[0m 32.4    \u001b[0m | \u001b[0m 0.8009  \u001b[0m |\n"
     ]
    },
    {
     "name": "stdout",
     "output_type": "stream",
     "text": [
      "| \u001b[0m 103     \u001b[0m | \u001b[0m-4.39e+09\u001b[0m | \u001b[0m 0.5499  \u001b[0m | \u001b[0m 0.001641\u001b[0m | \u001b[0m 4.859   \u001b[0m | \u001b[0m 174.0   \u001b[0m | \u001b[0m 33.11   \u001b[0m | \u001b[0m 0.3893  \u001b[0m |\n",
      "| \u001b[0m 104     \u001b[0m | \u001b[0m-2.235e+0\u001b[0m | \u001b[0m 0.7266  \u001b[0m | \u001b[0m 0.002696\u001b[0m | \u001b[0m 1.922   \u001b[0m | \u001b[0m 438.7   \u001b[0m | \u001b[0m 42.81   \u001b[0m | \u001b[0m 0.4977  \u001b[0m |\n",
      "| \u001b[0m 105     \u001b[0m | \u001b[0m-1.604e+0\u001b[0m | \u001b[0m 0.749   \u001b[0m | \u001b[0m 0.008429\u001b[0m | \u001b[0m 6.054   \u001b[0m | \u001b[0m 350.9   \u001b[0m | \u001b[0m 32.64   \u001b[0m | \u001b[0m 0.2426  \u001b[0m |\n",
      "| \u001b[0m 106     \u001b[0m | \u001b[0m-1.023e+0\u001b[0m | \u001b[0m 0.6241  \u001b[0m | \u001b[0m 0.008933\u001b[0m | \u001b[0m 9.55    \u001b[0m | \u001b[0m 708.2   \u001b[0m | \u001b[0m 26.94   \u001b[0m | \u001b[0m 0.4288  \u001b[0m |\n",
      "| \u001b[0m 107     \u001b[0m | \u001b[0m-4.376e+0\u001b[0m | \u001b[0m 0.6074  \u001b[0m | \u001b[0m 0.000441\u001b[0m | \u001b[0m 2.408   \u001b[0m | \u001b[0m 864.3   \u001b[0m | \u001b[0m 43.27   \u001b[0m | \u001b[0m 0.198   \u001b[0m |\n",
      "| \u001b[0m 108     \u001b[0m | \u001b[0m-2.567e+0\u001b[0m | \u001b[0m 0.6143  \u001b[0m | \u001b[0m 0.004972\u001b[0m | \u001b[0m 9.895   \u001b[0m | \u001b[0m 222.0   \u001b[0m | \u001b[0m 27.85   \u001b[0m | \u001b[0m 0.569   \u001b[0m |\n",
      "| \u001b[0m 109     \u001b[0m | \u001b[0m-2.094e+0\u001b[0m | \u001b[0m 0.522   \u001b[0m | \u001b[0m 0.007014\u001b[0m | \u001b[0m 9.467   \u001b[0m | \u001b[0m 158.5   \u001b[0m | \u001b[0m 26.98   \u001b[0m | \u001b[0m 0.6041  \u001b[0m |\n",
      "| \u001b[0m 110     \u001b[0m | \u001b[0m-3.948e+0\u001b[0m | \u001b[0m 0.8509  \u001b[0m | \u001b[0m 0.001854\u001b[0m | \u001b[0m 7.688   \u001b[0m | \u001b[0m 526.5   \u001b[0m | \u001b[0m 29.94   \u001b[0m | \u001b[0m 0.394   \u001b[0m |\n",
      "=================================================================================================\n",
      "{'colsample_bytree': 0.8238472358016229, 'learning_rate': 0.008952243102064422, 'max_depth': 9, 'n_estimators': 504, 'num_leaves': 31, 'subsample': 0.7749632785399652}\n"
     ]
    }
   ],
   "source": [
    "BO_lgbm = BayesianOptimization(f = lgbm_bo, pbounds = lgbm_parameter_bounds, random_state = 0)\n",
    "\n",
    "#학습 시작\n",
    "BO_lgbm.maximize(init_points = 10, n_iter = 100)\n",
    "\n",
    "max_params = BO_lgbm.max['params']\n",
    "max_params['learning_rate'] = float(max_params['learning_rate'])\n",
    "max_params['n_estimators'] = int(max_params['n_estimators'])\n",
    "max_params['max_depth'] = int(max_params['max_depth'])\n",
    "max_params['subsample'] = float(max_params['subsample'])\n",
    "max_params['colsample_bytree'] = float(max_params['colsample_bytree'])\n",
    "max_params['num_leaves'] = int(max_params['num_leaves'])\n",
    "print(max_params)"
   ]
  },
  {
   "cell_type": "code",
   "execution_count": 22,
   "id": "c04c3cd9",
   "metadata": {},
   "outputs": [
    {
     "data": {
      "text/plain": [
       "LGBMRegressor(colsample_bytree=0.8238472358016229,\n",
       "              learning_rate=0.008952243102064422, max_depth=9, n_estimators=504,\n",
       "              subsample=0.7749632785399652)"
      ]
     },
     "execution_count": 22,
     "metadata": {},
     "output_type": "execute_result"
    }
   ],
   "source": [
    "lgbm_tune = LGBMRegressor(learning_rate = 0.008952243102064422, max_depth = 9, n_estimators = 504, num_leaves = 31, subsample = 0.7749632785399652, colsample_bytree = 0.8238472358016229)\n",
    "lgbm_tune.fit(X, y)"
   ]
  },
  {
   "cell_type": "markdown",
   "id": "d29be79f",
   "metadata": {},
   "source": [
    "### 3-3. 결과 파일 생성"
   ]
  },
  {
   "cell_type": "code",
   "execution_count": 23,
   "id": "cca5114f",
   "metadata": {},
   "outputs": [],
   "source": [
    "pred = lgbm_tune.predict(test_one)\n",
    "sub = pd.read_csv('sample_submission.csv')\n",
    "sub['SalePrice'] = pred\n",
    "sub.to_csv('sub_lgbm_4.csv',index = False)"
   ]
  },
  {
   "cell_type": "markdown",
   "id": "6cbd9c2e",
   "metadata": {},
   "source": [
    "## 최종 Score: 0.13204"
   ]
  }
 ],
 "metadata": {
  "kernelspec": {
   "display_name": "Python 3 (ipykernel)",
   "language": "python",
   "name": "python3"
  },
  "language_info": {
   "codemirror_mode": {
    "name": "ipython",
    "version": 3
   },
   "file_extension": ".py",
   "mimetype": "text/x-python",
   "name": "python",
   "nbconvert_exporter": "python",
   "pygments_lexer": "ipython3",
   "version": "3.8.12"
  }
 },
 "nbformat": 4,
 "nbformat_minor": 5
}
