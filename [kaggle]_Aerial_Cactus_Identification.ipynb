{
  "nbformat": 4,
  "nbformat_minor": 0,
  "metadata": {
    "colab": {
      "name": "[kaggle] Aerial Cactus Identification.ipynb",
      "provenance": [],
      "collapsed_sections": []
    },
    "kernelspec": {
      "name": "python3",
      "display_name": "Python 3"
    },
    "language_info": {
      "name": "python"
    },
    "accelerator": "GPU",
    "widgets": {
      "application/vnd.jupyter.widget-state+json": {
        "27854aff1a9b4f20bb97e4912fb88c14": {
          "model_module": "@jupyter-widgets/controls",
          "model_name": "HBoxModel",
          "model_module_version": "1.5.0",
          "state": {
            "_dom_classes": [],
            "_model_module": "@jupyter-widgets/controls",
            "_model_module_version": "1.5.0",
            "_model_name": "HBoxModel",
            "_view_count": null,
            "_view_module": "@jupyter-widgets/controls",
            "_view_module_version": "1.5.0",
            "_view_name": "HBoxView",
            "box_style": "",
            "children": [
              "IPY_MODEL_717a0c45ef964597ba77682ac0b98028",
              "IPY_MODEL_c4c278512c6046ccacc7959a532a4885",
              "IPY_MODEL_a8a13246d889443aa9356e8202752783"
            ],
            "layout": "IPY_MODEL_b4e7d7ff7def42b4bee9cdf35efd6d3c"
          }
        },
        "717a0c45ef964597ba77682ac0b98028": {
          "model_module": "@jupyter-widgets/controls",
          "model_name": "HTMLModel",
          "model_module_version": "1.5.0",
          "state": {
            "_dom_classes": [],
            "_model_module": "@jupyter-widgets/controls",
            "_model_module_version": "1.5.0",
            "_model_name": "HTMLModel",
            "_view_count": null,
            "_view_module": "@jupyter-widgets/controls",
            "_view_module_version": "1.5.0",
            "_view_name": "HTMLView",
            "description": "",
            "description_tooltip": null,
            "layout": "IPY_MODEL_a44aa4cbc96c4bf1b3d570797e2c6917",
            "placeholder": "​",
            "style": "IPY_MODEL_e410fddc40b647798b5284b07d162e6e",
            "value": "100%"
          }
        },
        "c4c278512c6046ccacc7959a532a4885": {
          "model_module": "@jupyter-widgets/controls",
          "model_name": "FloatProgressModel",
          "model_module_version": "1.5.0",
          "state": {
            "_dom_classes": [],
            "_model_module": "@jupyter-widgets/controls",
            "_model_module_version": "1.5.0",
            "_model_name": "FloatProgressModel",
            "_view_count": null,
            "_view_module": "@jupyter-widgets/controls",
            "_view_module_version": "1.5.0",
            "_view_name": "ProgressView",
            "bar_style": "success",
            "description": "",
            "description_tooltip": null,
            "layout": "IPY_MODEL_1d372a2327b54359934a32d0b6d35bad",
            "max": 17500,
            "min": 0,
            "orientation": "horizontal",
            "style": "IPY_MODEL_3e0f7c767a764222923b19b55e5762de",
            "value": 17500
          }
        },
        "a8a13246d889443aa9356e8202752783": {
          "model_module": "@jupyter-widgets/controls",
          "model_name": "HTMLModel",
          "model_module_version": "1.5.0",
          "state": {
            "_dom_classes": [],
            "_model_module": "@jupyter-widgets/controls",
            "_model_module_version": "1.5.0",
            "_model_name": "HTMLModel",
            "_view_count": null,
            "_view_module": "@jupyter-widgets/controls",
            "_view_module_version": "1.5.0",
            "_view_name": "HTMLView",
            "description": "",
            "description_tooltip": null,
            "layout": "IPY_MODEL_82ed2a4cd5e74d2094976da1e7fb17d7",
            "placeholder": "​",
            "style": "IPY_MODEL_cf4ecf42eae644b4aae6a3e281facee4",
            "value": " 17500/17500 [00:32&lt;00:00, 450.51it/s]"
          }
        },
        "b4e7d7ff7def42b4bee9cdf35efd6d3c": {
          "model_module": "@jupyter-widgets/base",
          "model_name": "LayoutModel",
          "model_module_version": "1.2.0",
          "state": {
            "_model_module": "@jupyter-widgets/base",
            "_model_module_version": "1.2.0",
            "_model_name": "LayoutModel",
            "_view_count": null,
            "_view_module": "@jupyter-widgets/base",
            "_view_module_version": "1.2.0",
            "_view_name": "LayoutView",
            "align_content": null,
            "align_items": null,
            "align_self": null,
            "border": null,
            "bottom": null,
            "display": null,
            "flex": null,
            "flex_flow": null,
            "grid_area": null,
            "grid_auto_columns": null,
            "grid_auto_flow": null,
            "grid_auto_rows": null,
            "grid_column": null,
            "grid_gap": null,
            "grid_row": null,
            "grid_template_areas": null,
            "grid_template_columns": null,
            "grid_template_rows": null,
            "height": null,
            "justify_content": null,
            "justify_items": null,
            "left": null,
            "margin": null,
            "max_height": null,
            "max_width": null,
            "min_height": null,
            "min_width": null,
            "object_fit": null,
            "object_position": null,
            "order": null,
            "overflow": null,
            "overflow_x": null,
            "overflow_y": null,
            "padding": null,
            "right": null,
            "top": null,
            "visibility": null,
            "width": null
          }
        },
        "a44aa4cbc96c4bf1b3d570797e2c6917": {
          "model_module": "@jupyter-widgets/base",
          "model_name": "LayoutModel",
          "model_module_version": "1.2.0",
          "state": {
            "_model_module": "@jupyter-widgets/base",
            "_model_module_version": "1.2.0",
            "_model_name": "LayoutModel",
            "_view_count": null,
            "_view_module": "@jupyter-widgets/base",
            "_view_module_version": "1.2.0",
            "_view_name": "LayoutView",
            "align_content": null,
            "align_items": null,
            "align_self": null,
            "border": null,
            "bottom": null,
            "display": null,
            "flex": null,
            "flex_flow": null,
            "grid_area": null,
            "grid_auto_columns": null,
            "grid_auto_flow": null,
            "grid_auto_rows": null,
            "grid_column": null,
            "grid_gap": null,
            "grid_row": null,
            "grid_template_areas": null,
            "grid_template_columns": null,
            "grid_template_rows": null,
            "height": null,
            "justify_content": null,
            "justify_items": null,
            "left": null,
            "margin": null,
            "max_height": null,
            "max_width": null,
            "min_height": null,
            "min_width": null,
            "object_fit": null,
            "object_position": null,
            "order": null,
            "overflow": null,
            "overflow_x": null,
            "overflow_y": null,
            "padding": null,
            "right": null,
            "top": null,
            "visibility": null,
            "width": null
          }
        },
        "e410fddc40b647798b5284b07d162e6e": {
          "model_module": "@jupyter-widgets/controls",
          "model_name": "DescriptionStyleModel",
          "model_module_version": "1.5.0",
          "state": {
            "_model_module": "@jupyter-widgets/controls",
            "_model_module_version": "1.5.0",
            "_model_name": "DescriptionStyleModel",
            "_view_count": null,
            "_view_module": "@jupyter-widgets/base",
            "_view_module_version": "1.2.0",
            "_view_name": "StyleView",
            "description_width": ""
          }
        },
        "1d372a2327b54359934a32d0b6d35bad": {
          "model_module": "@jupyter-widgets/base",
          "model_name": "LayoutModel",
          "model_module_version": "1.2.0",
          "state": {
            "_model_module": "@jupyter-widgets/base",
            "_model_module_version": "1.2.0",
            "_model_name": "LayoutModel",
            "_view_count": null,
            "_view_module": "@jupyter-widgets/base",
            "_view_module_version": "1.2.0",
            "_view_name": "LayoutView",
            "align_content": null,
            "align_items": null,
            "align_self": null,
            "border": null,
            "bottom": null,
            "display": null,
            "flex": null,
            "flex_flow": null,
            "grid_area": null,
            "grid_auto_columns": null,
            "grid_auto_flow": null,
            "grid_auto_rows": null,
            "grid_column": null,
            "grid_gap": null,
            "grid_row": null,
            "grid_template_areas": null,
            "grid_template_columns": null,
            "grid_template_rows": null,
            "height": null,
            "justify_content": null,
            "justify_items": null,
            "left": null,
            "margin": null,
            "max_height": null,
            "max_width": null,
            "min_height": null,
            "min_width": null,
            "object_fit": null,
            "object_position": null,
            "order": null,
            "overflow": null,
            "overflow_x": null,
            "overflow_y": null,
            "padding": null,
            "right": null,
            "top": null,
            "visibility": null,
            "width": null
          }
        },
        "3e0f7c767a764222923b19b55e5762de": {
          "model_module": "@jupyter-widgets/controls",
          "model_name": "ProgressStyleModel",
          "model_module_version": "1.5.0",
          "state": {
            "_model_module": "@jupyter-widgets/controls",
            "_model_module_version": "1.5.0",
            "_model_name": "ProgressStyleModel",
            "_view_count": null,
            "_view_module": "@jupyter-widgets/base",
            "_view_module_version": "1.2.0",
            "_view_name": "StyleView",
            "bar_color": null,
            "description_width": ""
          }
        },
        "82ed2a4cd5e74d2094976da1e7fb17d7": {
          "model_module": "@jupyter-widgets/base",
          "model_name": "LayoutModel",
          "model_module_version": "1.2.0",
          "state": {
            "_model_module": "@jupyter-widgets/base",
            "_model_module_version": "1.2.0",
            "_model_name": "LayoutModel",
            "_view_count": null,
            "_view_module": "@jupyter-widgets/base",
            "_view_module_version": "1.2.0",
            "_view_name": "LayoutView",
            "align_content": null,
            "align_items": null,
            "align_self": null,
            "border": null,
            "bottom": null,
            "display": null,
            "flex": null,
            "flex_flow": null,
            "grid_area": null,
            "grid_auto_columns": null,
            "grid_auto_flow": null,
            "grid_auto_rows": null,
            "grid_column": null,
            "grid_gap": null,
            "grid_row": null,
            "grid_template_areas": null,
            "grid_template_columns": null,
            "grid_template_rows": null,
            "height": null,
            "justify_content": null,
            "justify_items": null,
            "left": null,
            "margin": null,
            "max_height": null,
            "max_width": null,
            "min_height": null,
            "min_width": null,
            "object_fit": null,
            "object_position": null,
            "order": null,
            "overflow": null,
            "overflow_x": null,
            "overflow_y": null,
            "padding": null,
            "right": null,
            "top": null,
            "visibility": null,
            "width": null
          }
        },
        "cf4ecf42eae644b4aae6a3e281facee4": {
          "model_module": "@jupyter-widgets/controls",
          "model_name": "DescriptionStyleModel",
          "model_module_version": "1.5.0",
          "state": {
            "_model_module": "@jupyter-widgets/controls",
            "_model_module_version": "1.5.0",
            "_model_name": "DescriptionStyleModel",
            "_view_count": null,
            "_view_module": "@jupyter-widgets/base",
            "_view_module_version": "1.2.0",
            "_view_name": "StyleView",
            "description_width": ""
          }
        },
        "a06829162b854806a790a37b43f6afc1": {
          "model_module": "@jupyter-widgets/controls",
          "model_name": "HBoxModel",
          "model_module_version": "1.5.0",
          "state": {
            "_dom_classes": [],
            "_model_module": "@jupyter-widgets/controls",
            "_model_module_version": "1.5.0",
            "_model_name": "HBoxModel",
            "_view_count": null,
            "_view_module": "@jupyter-widgets/controls",
            "_view_module_version": "1.5.0",
            "_view_name": "HBoxView",
            "box_style": "",
            "children": [
              "IPY_MODEL_ab635ffeaf054a478180824668eb05ed",
              "IPY_MODEL_f68b06b6dc92420bbd576bbeecf9f971",
              "IPY_MODEL_21f2346a6e3d481eacde43a739667be0"
            ],
            "layout": "IPY_MODEL_31aecffcd26f427b87c789c445560b29"
          }
        },
        "ab635ffeaf054a478180824668eb05ed": {
          "model_module": "@jupyter-widgets/controls",
          "model_name": "HTMLModel",
          "model_module_version": "1.5.0",
          "state": {
            "_dom_classes": [],
            "_model_module": "@jupyter-widgets/controls",
            "_model_module_version": "1.5.0",
            "_model_name": "HTMLModel",
            "_view_count": null,
            "_view_module": "@jupyter-widgets/controls",
            "_view_module_version": "1.5.0",
            "_view_name": "HTMLView",
            "description": "",
            "description_tooltip": null,
            "layout": "IPY_MODEL_353af514139c48e694ab3b0e37c75e1f",
            "placeholder": "​",
            "style": "IPY_MODEL_dbe606d69023440d98faa1ae912d4120",
            "value": "100%"
          }
        },
        "f68b06b6dc92420bbd576bbeecf9f971": {
          "model_module": "@jupyter-widgets/controls",
          "model_name": "FloatProgressModel",
          "model_module_version": "1.5.0",
          "state": {
            "_dom_classes": [],
            "_model_module": "@jupyter-widgets/controls",
            "_model_module_version": "1.5.0",
            "_model_name": "FloatProgressModel",
            "_view_count": null,
            "_view_module": "@jupyter-widgets/controls",
            "_view_module_version": "1.5.0",
            "_view_name": "ProgressView",
            "bar_style": "success",
            "description": "",
            "description_tooltip": null,
            "layout": "IPY_MODEL_0d736bbf6a86497baa5cf936490bb0c8",
            "max": 4000,
            "min": 0,
            "orientation": "horizontal",
            "style": "IPY_MODEL_3dd93beb97064d5a8824377ea119c287",
            "value": 4000
          }
        },
        "21f2346a6e3d481eacde43a739667be0": {
          "model_module": "@jupyter-widgets/controls",
          "model_name": "HTMLModel",
          "model_module_version": "1.5.0",
          "state": {
            "_dom_classes": [],
            "_model_module": "@jupyter-widgets/controls",
            "_model_module_version": "1.5.0",
            "_model_name": "HTMLModel",
            "_view_count": null,
            "_view_module": "@jupyter-widgets/controls",
            "_view_module_version": "1.5.0",
            "_view_name": "HTMLView",
            "description": "",
            "description_tooltip": null,
            "layout": "IPY_MODEL_dbef27b6e7234890986034d4c1c825a3",
            "placeholder": "​",
            "style": "IPY_MODEL_dd3626076a734549813dc4ff9c367762",
            "value": " 4000/4000 [00:00&lt;00:00, 10824.91it/s]"
          }
        },
        "31aecffcd26f427b87c789c445560b29": {
          "model_module": "@jupyter-widgets/base",
          "model_name": "LayoutModel",
          "model_module_version": "1.2.0",
          "state": {
            "_model_module": "@jupyter-widgets/base",
            "_model_module_version": "1.2.0",
            "_model_name": "LayoutModel",
            "_view_count": null,
            "_view_module": "@jupyter-widgets/base",
            "_view_module_version": "1.2.0",
            "_view_name": "LayoutView",
            "align_content": null,
            "align_items": null,
            "align_self": null,
            "border": null,
            "bottom": null,
            "display": null,
            "flex": null,
            "flex_flow": null,
            "grid_area": null,
            "grid_auto_columns": null,
            "grid_auto_flow": null,
            "grid_auto_rows": null,
            "grid_column": null,
            "grid_gap": null,
            "grid_row": null,
            "grid_template_areas": null,
            "grid_template_columns": null,
            "grid_template_rows": null,
            "height": null,
            "justify_content": null,
            "justify_items": null,
            "left": null,
            "margin": null,
            "max_height": null,
            "max_width": null,
            "min_height": null,
            "min_width": null,
            "object_fit": null,
            "object_position": null,
            "order": null,
            "overflow": null,
            "overflow_x": null,
            "overflow_y": null,
            "padding": null,
            "right": null,
            "top": null,
            "visibility": null,
            "width": null
          }
        },
        "353af514139c48e694ab3b0e37c75e1f": {
          "model_module": "@jupyter-widgets/base",
          "model_name": "LayoutModel",
          "model_module_version": "1.2.0",
          "state": {
            "_model_module": "@jupyter-widgets/base",
            "_model_module_version": "1.2.0",
            "_model_name": "LayoutModel",
            "_view_count": null,
            "_view_module": "@jupyter-widgets/base",
            "_view_module_version": "1.2.0",
            "_view_name": "LayoutView",
            "align_content": null,
            "align_items": null,
            "align_self": null,
            "border": null,
            "bottom": null,
            "display": null,
            "flex": null,
            "flex_flow": null,
            "grid_area": null,
            "grid_auto_columns": null,
            "grid_auto_flow": null,
            "grid_auto_rows": null,
            "grid_column": null,
            "grid_gap": null,
            "grid_row": null,
            "grid_template_areas": null,
            "grid_template_columns": null,
            "grid_template_rows": null,
            "height": null,
            "justify_content": null,
            "justify_items": null,
            "left": null,
            "margin": null,
            "max_height": null,
            "max_width": null,
            "min_height": null,
            "min_width": null,
            "object_fit": null,
            "object_position": null,
            "order": null,
            "overflow": null,
            "overflow_x": null,
            "overflow_y": null,
            "padding": null,
            "right": null,
            "top": null,
            "visibility": null,
            "width": null
          }
        },
        "dbe606d69023440d98faa1ae912d4120": {
          "model_module": "@jupyter-widgets/controls",
          "model_name": "DescriptionStyleModel",
          "model_module_version": "1.5.0",
          "state": {
            "_model_module": "@jupyter-widgets/controls",
            "_model_module_version": "1.5.0",
            "_model_name": "DescriptionStyleModel",
            "_view_count": null,
            "_view_module": "@jupyter-widgets/base",
            "_view_module_version": "1.2.0",
            "_view_name": "StyleView",
            "description_width": ""
          }
        },
        "0d736bbf6a86497baa5cf936490bb0c8": {
          "model_module": "@jupyter-widgets/base",
          "model_name": "LayoutModel",
          "model_module_version": "1.2.0",
          "state": {
            "_model_module": "@jupyter-widgets/base",
            "_model_module_version": "1.2.0",
            "_model_name": "LayoutModel",
            "_view_count": null,
            "_view_module": "@jupyter-widgets/base",
            "_view_module_version": "1.2.0",
            "_view_name": "LayoutView",
            "align_content": null,
            "align_items": null,
            "align_self": null,
            "border": null,
            "bottom": null,
            "display": null,
            "flex": null,
            "flex_flow": null,
            "grid_area": null,
            "grid_auto_columns": null,
            "grid_auto_flow": null,
            "grid_auto_rows": null,
            "grid_column": null,
            "grid_gap": null,
            "grid_row": null,
            "grid_template_areas": null,
            "grid_template_columns": null,
            "grid_template_rows": null,
            "height": null,
            "justify_content": null,
            "justify_items": null,
            "left": null,
            "margin": null,
            "max_height": null,
            "max_width": null,
            "min_height": null,
            "min_width": null,
            "object_fit": null,
            "object_position": null,
            "order": null,
            "overflow": null,
            "overflow_x": null,
            "overflow_y": null,
            "padding": null,
            "right": null,
            "top": null,
            "visibility": null,
            "width": null
          }
        },
        "3dd93beb97064d5a8824377ea119c287": {
          "model_module": "@jupyter-widgets/controls",
          "model_name": "ProgressStyleModel",
          "model_module_version": "1.5.0",
          "state": {
            "_model_module": "@jupyter-widgets/controls",
            "_model_module_version": "1.5.0",
            "_model_name": "ProgressStyleModel",
            "_view_count": null,
            "_view_module": "@jupyter-widgets/base",
            "_view_module_version": "1.2.0",
            "_view_name": "StyleView",
            "bar_color": null,
            "description_width": ""
          }
        },
        "dbef27b6e7234890986034d4c1c825a3": {
          "model_module": "@jupyter-widgets/base",
          "model_name": "LayoutModel",
          "model_module_version": "1.2.0",
          "state": {
            "_model_module": "@jupyter-widgets/base",
            "_model_module_version": "1.2.0",
            "_model_name": "LayoutModel",
            "_view_count": null,
            "_view_module": "@jupyter-widgets/base",
            "_view_module_version": "1.2.0",
            "_view_name": "LayoutView",
            "align_content": null,
            "align_items": null,
            "align_self": null,
            "border": null,
            "bottom": null,
            "display": null,
            "flex": null,
            "flex_flow": null,
            "grid_area": null,
            "grid_auto_columns": null,
            "grid_auto_flow": null,
            "grid_auto_rows": null,
            "grid_column": null,
            "grid_gap": null,
            "grid_row": null,
            "grid_template_areas": null,
            "grid_template_columns": null,
            "grid_template_rows": null,
            "height": null,
            "justify_content": null,
            "justify_items": null,
            "left": null,
            "margin": null,
            "max_height": null,
            "max_width": null,
            "min_height": null,
            "min_width": null,
            "object_fit": null,
            "object_position": null,
            "order": null,
            "overflow": null,
            "overflow_x": null,
            "overflow_y": null,
            "padding": null,
            "right": null,
            "top": null,
            "visibility": null,
            "width": null
          }
        },
        "dd3626076a734549813dc4ff9c367762": {
          "model_module": "@jupyter-widgets/controls",
          "model_name": "DescriptionStyleModel",
          "model_module_version": "1.5.0",
          "state": {
            "_model_module": "@jupyter-widgets/controls",
            "_model_module_version": "1.5.0",
            "_model_name": "DescriptionStyleModel",
            "_view_count": null,
            "_view_module": "@jupyter-widgets/base",
            "_view_module_version": "1.2.0",
            "_view_name": "StyleView",
            "description_width": ""
          }
        }
      }
    }
  },
  "cells": [
    {
      "cell_type": "markdown",
      "source": [
        "## 이미지에서 cactus 여부 확인"
      ],
      "metadata": {
        "id": "xvcYU5FJtb-c"
      }
    },
    {
      "cell_type": "code",
      "execution_count": null,
      "metadata": {
        "id": "oCmnDiQLg8GM"
      },
      "outputs": [],
      "source": [
        "import cv2\n",
        "import pandas as pd\n",
        "import numpy as np\n",
        "import matplotlib.pyplot as plt\n",
        "import json\n",
        "import os\n",
        "from tqdm import tqdm, tqdm_notebook\n",
        "from keras.models import Sequential\n",
        "from keras.layers import Activation, Dropout, Flatten, Dense\n",
        "from tensorflow.keras.applications import VGG16\n",
        "from tensorflow.keras.optimizers import Adam"
      ]
    },
    {
      "cell_type": "code",
      "source": [
        "train_dir = \"train/\"\n",
        "test_dir = \"test/\"\n",
        "train_df = pd.read_csv('train.csv')\n",
        "train_df.head()"
      ],
      "metadata": {
        "colab": {
          "base_uri": "https://localhost:8080/",
          "height": 206
        },
        "id": "835H0deHg9_v",
        "outputId": "0496d8d7-1c96-4a36-d890-49bec0eb60ee"
      },
      "execution_count": null,
      "outputs": [
        {
          "output_type": "execute_result",
          "data": {
            "text/plain": [
              "                                     id  has_cactus\n",
              "0  0004be2cfeaba1c0361d39e2b000257b.jpg           1\n",
              "1  000c8a36845c0208e833c79c1bffedd1.jpg           1\n",
              "2  000d1e9a533f62e55c289303b072733d.jpg           1\n",
              "3  0011485b40695e9138e92d0b3fb55128.jpg           1\n",
              "4  0014d7a11e90b62848904c1418fc8cf2.jpg           1"
            ],
            "text/html": [
              "\n",
              "  <div id=\"df-ca56c0bd-5741-4adb-a85e-3a6f662a19c2\">\n",
              "    <div class=\"colab-df-container\">\n",
              "      <div>\n",
              "<style scoped>\n",
              "    .dataframe tbody tr th:only-of-type {\n",
              "        vertical-align: middle;\n",
              "    }\n",
              "\n",
              "    .dataframe tbody tr th {\n",
              "        vertical-align: top;\n",
              "    }\n",
              "\n",
              "    .dataframe thead th {\n",
              "        text-align: right;\n",
              "    }\n",
              "</style>\n",
              "<table border=\"1\" class=\"dataframe\">\n",
              "  <thead>\n",
              "    <tr style=\"text-align: right;\">\n",
              "      <th></th>\n",
              "      <th>id</th>\n",
              "      <th>has_cactus</th>\n",
              "    </tr>\n",
              "  </thead>\n",
              "  <tbody>\n",
              "    <tr>\n",
              "      <th>0</th>\n",
              "      <td>0004be2cfeaba1c0361d39e2b000257b.jpg</td>\n",
              "      <td>1</td>\n",
              "    </tr>\n",
              "    <tr>\n",
              "      <th>1</th>\n",
              "      <td>000c8a36845c0208e833c79c1bffedd1.jpg</td>\n",
              "      <td>1</td>\n",
              "    </tr>\n",
              "    <tr>\n",
              "      <th>2</th>\n",
              "      <td>000d1e9a533f62e55c289303b072733d.jpg</td>\n",
              "      <td>1</td>\n",
              "    </tr>\n",
              "    <tr>\n",
              "      <th>3</th>\n",
              "      <td>0011485b40695e9138e92d0b3fb55128.jpg</td>\n",
              "      <td>1</td>\n",
              "    </tr>\n",
              "    <tr>\n",
              "      <th>4</th>\n",
              "      <td>0014d7a11e90b62848904c1418fc8cf2.jpg</td>\n",
              "      <td>1</td>\n",
              "    </tr>\n",
              "  </tbody>\n",
              "</table>\n",
              "</div>\n",
              "      <button class=\"colab-df-convert\" onclick=\"convertToInteractive('df-ca56c0bd-5741-4adb-a85e-3a6f662a19c2')\"\n",
              "              title=\"Convert this dataframe to an interactive table.\"\n",
              "              style=\"display:none;\">\n",
              "        \n",
              "  <svg xmlns=\"http://www.w3.org/2000/svg\" height=\"24px\"viewBox=\"0 0 24 24\"\n",
              "       width=\"24px\">\n",
              "    <path d=\"M0 0h24v24H0V0z\" fill=\"none\"/>\n",
              "    <path d=\"M18.56 5.44l.94 2.06.94-2.06 2.06-.94-2.06-.94-.94-2.06-.94 2.06-2.06.94zm-11 1L8.5 8.5l.94-2.06 2.06-.94-2.06-.94L8.5 2.5l-.94 2.06-2.06.94zm10 10l.94 2.06.94-2.06 2.06-.94-2.06-.94-.94-2.06-.94 2.06-2.06.94z\"/><path d=\"M17.41 7.96l-1.37-1.37c-.4-.4-.92-.59-1.43-.59-.52 0-1.04.2-1.43.59L10.3 9.45l-7.72 7.72c-.78.78-.78 2.05 0 2.83L4 21.41c.39.39.9.59 1.41.59.51 0 1.02-.2 1.41-.59l7.78-7.78 2.81-2.81c.8-.78.8-2.07 0-2.86zM5.41 20L4 18.59l7.72-7.72 1.47 1.35L5.41 20z\"/>\n",
              "  </svg>\n",
              "      </button>\n",
              "      \n",
              "  <style>\n",
              "    .colab-df-container {\n",
              "      display:flex;\n",
              "      flex-wrap:wrap;\n",
              "      gap: 12px;\n",
              "    }\n",
              "\n",
              "    .colab-df-convert {\n",
              "      background-color: #E8F0FE;\n",
              "      border: none;\n",
              "      border-radius: 50%;\n",
              "      cursor: pointer;\n",
              "      display: none;\n",
              "      fill: #1967D2;\n",
              "      height: 32px;\n",
              "      padding: 0 0 0 0;\n",
              "      width: 32px;\n",
              "    }\n",
              "\n",
              "    .colab-df-convert:hover {\n",
              "      background-color: #E2EBFA;\n",
              "      box-shadow: 0px 1px 2px rgba(60, 64, 67, 0.3), 0px 1px 3px 1px rgba(60, 64, 67, 0.15);\n",
              "      fill: #174EA6;\n",
              "    }\n",
              "\n",
              "    [theme=dark] .colab-df-convert {\n",
              "      background-color: #3B4455;\n",
              "      fill: #D2E3FC;\n",
              "    }\n",
              "\n",
              "    [theme=dark] .colab-df-convert:hover {\n",
              "      background-color: #434B5C;\n",
              "      box-shadow: 0px 1px 3px 1px rgba(0, 0, 0, 0.15);\n",
              "      filter: drop-shadow(0px 1px 2px rgba(0, 0, 0, 0.3));\n",
              "      fill: #FFFFFF;\n",
              "    }\n",
              "  </style>\n",
              "\n",
              "      <script>\n",
              "        const buttonEl =\n",
              "          document.querySelector('#df-ca56c0bd-5741-4adb-a85e-3a6f662a19c2 button.colab-df-convert');\n",
              "        buttonEl.style.display =\n",
              "          google.colab.kernel.accessAllowed ? 'block' : 'none';\n",
              "\n",
              "        async function convertToInteractive(key) {\n",
              "          const element = document.querySelector('#df-ca56c0bd-5741-4adb-a85e-3a6f662a19c2');\n",
              "          const dataTable =\n",
              "            await google.colab.kernel.invokeFunction('convertToInteractive',\n",
              "                                                     [key], {});\n",
              "          if (!dataTable) return;\n",
              "\n",
              "          const docLinkHtml = 'Like what you see? Visit the ' +\n",
              "            '<a target=\"_blank\" href=https://colab.research.google.com/notebooks/data_table.ipynb>data table notebook</a>'\n",
              "            + ' to learn more about interactive tables.';\n",
              "          element.innerHTML = '';\n",
              "          dataTable['output_type'] = 'display_data';\n",
              "          await google.colab.output.renderOutput(dataTable, element);\n",
              "          const docLink = document.createElement('div');\n",
              "          docLink.innerHTML = docLinkHtml;\n",
              "          element.appendChild(docLink);\n",
              "        }\n",
              "      </script>\n",
              "    </div>\n",
              "  </div>\n",
              "  "
            ]
          },
          "metadata": {},
          "execution_count": 10
        }
      ]
    },
    {
      "cell_type": "code",
      "source": [
        "im = cv2.imread(\"train/01e30c0ba6e91343a12d2126fcafc0dd.jpg\")\n",
        "plt.imshow(im)"
      ],
      "metadata": {
        "colab": {
          "base_uri": "https://localhost:8080/",
          "height": 284
        },
        "id": "p9SVHIfrhJdN",
        "outputId": "44655ab9-f28f-4ebe-fa26-c53d40601c1d"
      },
      "execution_count": null,
      "outputs": [
        {
          "output_type": "execute_result",
          "data": {
            "text/plain": [
              "<matplotlib.image.AxesImage at 0x7fd910f5a410>"
            ]
          },
          "metadata": {},
          "execution_count": 11
        },
        {
          "output_type": "display_data",
          "data": {
            "text/plain": [
              "<Figure size 432x288 with 1 Axes>"
            ],
            "image/png": "[encoded data removed]"
          },
          "metadata": {
            "needs_background": "light"
          }
        }
      ]
    },
    {
      "cell_type": "markdown",
      "source": [
        "VGG16Net을 사용"
      ],
      "metadata": {
        "id": "nyqpjm-QtjEj"
      }
    },
    {
      "cell_type": "code",
      "source": [
        "vgg16_net = VGG16(weights='imagenet', \n",
        "                  include_top=False, \n",
        "                  input_shape=(32, 32, 3))"
      ],
      "metadata": {
        "colab": {
          "base_uri": "https://localhost:8080/"
        },
        "id": "rfKwaIOqhYSN",
        "outputId": "ad120594-5635-436c-a368-dabc0e780198"
      },
      "execution_count": null,
      "outputs": [
        {
          "output_type": "stream",
          "name": "stdout",
          "text": [
            "Downloading data from https://storage.googleapis.com/tensorflow/keras-applications/vgg16/vgg16_weights_tf_dim_ordering_tf_kernels_notop.h5\n",
            "58892288/58889256 [==============================] - 1s 0us/step\n",
            "58900480/58889256 [==============================] - 1s 0us/step\n"
          ]
        }
      ]
    },
    {
      "cell_type": "code",
      "source": [
        "vgg16_net.trainable = False\n",
        "vgg16_net.summary()"
      ],
      "metadata": {
        "colab": {
          "base_uri": "https://localhost:8080/"
        },
        "id": "LXV8hzrGhZ2u",
        "outputId": "77e4eb1f-36c6-4635-8ae0-58553952f10e"
      },
      "execution_count": null,
      "outputs": [
        {
          "output_type": "stream",
          "name": "stdout",
          "text": [
            "Model: \"vgg16\"\n",
            "_________________________________________________________________\n",
            " Layer (type)                Output Shape              Param #   \n",
            "=================================================================\n",
            " input_1 (InputLayer)        [(None, 32, 32, 3)]       0         \n",
            "                                                                 \n",
            " block1_conv1 (Conv2D)       (None, 32, 32, 64)        1792      \n",
            "                                                                 \n",
            " block1_conv2 (Conv2D)       (None, 32, 32, 64)        36928     \n",
            "                                                                 \n",
            " block1_pool (MaxPooling2D)  (None, 16, 16, 64)        0         \n",
            "                                                                 \n",
            " block2_conv1 (Conv2D)       (None, 16, 16, 128)       73856     \n",
            "                                                                 \n",
            " block2_conv2 (Conv2D)       (None, 16, 16, 128)       147584    \n",
            "                                                                 \n",
            " block2_pool (MaxPooling2D)  (None, 8, 8, 128)         0         \n",
            "                                                                 \n",
            " block3_conv1 (Conv2D)       (None, 8, 8, 256)         295168    \n",
            "                                                                 \n",
            " block3_conv2 (Conv2D)       (None, 8, 8, 256)         590080    \n",
            "                                                                 \n",
            " block3_conv3 (Conv2D)       (None, 8, 8, 256)         590080    \n",
            "                                                                 \n",
            " block3_pool (MaxPooling2D)  (None, 4, 4, 256)         0         \n",
            "                                                                 \n",
            " block4_conv1 (Conv2D)       (None, 4, 4, 512)         1180160   \n",
            "                                                                 \n",
            " block4_conv2 (Conv2D)       (None, 4, 4, 512)         2359808   \n",
            "                                                                 \n",
            " block4_conv3 (Conv2D)       (None, 4, 4, 512)         2359808   \n",
            "                                                                 \n",
            " block4_pool (MaxPooling2D)  (None, 2, 2, 512)         0         \n",
            "                                                                 \n",
            " block5_conv1 (Conv2D)       (None, 2, 2, 512)         2359808   \n",
            "                                                                 \n",
            " block5_conv2 (Conv2D)       (None, 2, 2, 512)         2359808   \n",
            "                                                                 \n",
            " block5_conv3 (Conv2D)       (None, 2, 2, 512)         2359808   \n",
            "                                                                 \n",
            " block5_pool (MaxPooling2D)  (None, 1, 1, 512)         0         \n",
            "                                                                 \n",
            "=================================================================\n",
            "Total params: 14,714,688\n",
            "Trainable params: 0\n",
            "Non-trainable params: 14,714,688\n",
            "_________________________________________________________________\n"
          ]
        }
      ]
    },
    {
      "cell_type": "code",
      "source": [
        "model = Sequential()\n",
        "model.add(vgg16_net)\n",
        "model.add(Flatten())\n",
        "model.add(Dense(256))\n",
        "model.add(Activation('relu'))\n",
        "model.add(Dropout(0.5))\n",
        "model.add(Dense(1))\n",
        "model.add(Activation('sigmoid'))"
      ],
      "metadata": {
        "id": "mM9y7k5FhbVe"
      },
      "execution_count": null,
      "outputs": []
    },
    {
      "cell_type": "code",
      "source": [
        "model.compile(loss='binary_crossentropy',\n",
        "              optimizer=Adam(lr=1e-5), \n",
        "              metrics=['accuracy'])"
      ],
      "metadata": {
        "colab": {
          "base_uri": "https://localhost:8080/"
        },
        "id": "uQprbuNjhc9l",
        "outputId": "edfed1c7-ed63-47bd-e277-b5aa225206ef"
      },
      "execution_count": null,
      "outputs": [
        {
          "output_type": "stream",
          "name": "stderr",
          "text": [
            "/usr/local/lib/python3.7/dist-packages/keras/optimizer_v2/adam.py:105: UserWarning: The `lr` argument is deprecated, use `learning_rate` instead.\n",
            "  super(Adam, self).__init__(name, **kwargs)\n"
          ]
        }
      ]
    },
    {
      "cell_type": "code",
      "source": [
        "X_tr = []\n",
        "Y_tr = []\n",
        "imges = train_df['id'].values\n",
        "for img_id in tqdm_notebook(imges):\n",
        "    X_tr.append(cv2.imread(train_dir + img_id))    \n",
        "    Y_tr.append(train_df[train_df['id'] == img_id]['has_cactus'].values[0])  \n",
        "X_tr = np.asarray(X_tr)\n",
        "X_tr = X_tr.astype('float32')\n",
        "X_tr /= 255\n",
        "Y_tr = np.asarray(Y_tr)"
      ],
      "metadata": {
        "colab": {
          "base_uri": "https://localhost:8080/",
          "height": 124,
          "referenced_widgets": [
            "27854aff1a9b4f20bb97e4912fb88c14",
            "717a0c45ef964597ba77682ac0b98028",
            "c4c278512c6046ccacc7959a532a4885",
            "a8a13246d889443aa9356e8202752783",
            "b4e7d7ff7def42b4bee9cdf35efd6d3c",
            "a44aa4cbc96c4bf1b3d570797e2c6917",
            "e410fddc40b647798b5284b07d162e6e",
            "1d372a2327b54359934a32d0b6d35bad",
            "3e0f7c767a764222923b19b55e5762de",
            "82ed2a4cd5e74d2094976da1e7fb17d7",
            "cf4ecf42eae644b4aae6a3e281facee4"
          ]
        },
        "id": "Glhswk34hd5N",
        "outputId": "3c8b0788-45e6-459f-8dbc-f8cf32094f71"
      },
      "execution_count": null,
      "outputs": [
        {
          "output_type": "stream",
          "name": "stderr",
          "text": [
            "/usr/local/lib/python3.7/dist-packages/ipykernel_launcher.py:4: TqdmDeprecationWarning: This function will be removed in tqdm==5.0.0\n",
            "Please use `tqdm.notebook.tqdm` instead of `tqdm.tqdm_notebook`\n",
            "  after removing the cwd from sys.path.\n"
          ]
        },
        {
          "output_type": "display_data",
          "data": {
            "text/plain": [
              "  0%|          | 0/17500 [00:00<?, ?it/s]"
            ],
            "application/vnd.jupyter.widget-view+json": {
              "version_major": 2,
              "version_minor": 0,
              "model_id": "27854aff1a9b4f20bb97e4912fb88c14"
            }
          },
          "metadata": {}
        }
      ]
    },
    {
      "cell_type": "code",
      "source": [
        "batch_size = 32\n",
        "nb_epoch = 50\n",
        "epochs=50"
      ],
      "metadata": {
        "id": "sht00tfIhe2e"
      },
      "execution_count": null,
      "outputs": []
    },
    {
      "cell_type": "code",
      "source": [
        "%%time\n",
        "# Train model\n",
        "history = model.fit(X_tr, Y_tr,\n",
        "              batch_size=batch_size,\n",
        "              epochs=nb_epoch,\n",
        "              validation_split=0.1,\n",
        "              shuffle=True,\n",
        "              verbose=2)"
      ],
      "metadata": {
        "colab": {
          "base_uri": "https://localhost:8080/"
        },
        "id": "YORMZ_-khge2",
        "outputId": "2161491d-3428-4ed8-f1dc-a40c8f801144"
      },
      "execution_count": null,
      "outputs": [
        {
          "output_type": "stream",
          "name": "stdout",
          "text": [
            "Epoch 1/50\n",
            "493/493 - 10s - loss: 0.3464 - accuracy: 0.8514 - val_loss: 0.3045 - val_accuracy: 0.9023 - 10s/epoch - 21ms/step\n",
            "Epoch 2/50\n",
            "493/493 - 10s - loss: 0.3147 - accuracy: 0.8729 - val_loss: 0.2767 - val_accuracy: 0.9223 - 10s/epoch - 21ms/step\n",
            "Epoch 3/50\n",
            "493/493 - 9s - loss: 0.2878 - accuracy: 0.8903 - val_loss: 0.2544 - val_accuracy: 0.9286 - 9s/epoch - 19ms/step\n",
            "Epoch 4/50\n",
            "493/493 - 9s - loss: 0.2665 - accuracy: 0.9008 - val_loss: 0.2364 - val_accuracy: 0.9337 - 9s/epoch - 19ms/step\n",
            "Epoch 5/50\n",
            "493/493 - 9s - loss: 0.2470 - accuracy: 0.9113 - val_loss: 0.2208 - val_accuracy: 0.9400 - 9s/epoch - 19ms/step\n",
            "Epoch 6/50\n",
            "493/493 - 10s - loss: 0.2315 - accuracy: 0.9183 - val_loss: 0.2088 - val_accuracy: 0.9429 - 10s/epoch - 19ms/step\n",
            "Epoch 7/50\n",
            "493/493 - 9s - loss: 0.2180 - accuracy: 0.9265 - val_loss: 0.1978 - val_accuracy: 0.9451 - 9s/epoch - 19ms/step\n",
            "Epoch 8/50\n",
            "493/493 - 10s - loss: 0.2101 - accuracy: 0.9264 - val_loss: 0.1890 - val_accuracy: 0.9486 - 10s/epoch - 19ms/step\n",
            "Epoch 9/50\n",
            "493/493 - 10s - loss: 0.1994 - accuracy: 0.9345 - val_loss: 0.1808 - val_accuracy: 0.9509 - 10s/epoch - 19ms/step\n",
            "Epoch 10/50\n",
            "493/493 - 10s - loss: 0.1924 - accuracy: 0.9350 - val_loss: 0.1741 - val_accuracy: 0.9503 - 10s/epoch - 19ms/step\n",
            "Epoch 11/50\n",
            "493/493 - 10s - loss: 0.1837 - accuracy: 0.9372 - val_loss: 0.1685 - val_accuracy: 0.9509 - 10s/epoch - 19ms/step\n",
            "Epoch 12/50\n",
            "493/493 - 10s - loss: 0.1816 - accuracy: 0.9386 - val_loss: 0.1626 - val_accuracy: 0.9531 - 10s/epoch - 20ms/step\n",
            "Epoch 13/50\n",
            "493/493 - 9s - loss: 0.1740 - accuracy: 0.9403 - val_loss: 0.1578 - val_accuracy: 0.9526 - 9s/epoch - 19ms/step\n",
            "Epoch 14/50\n",
            "493/493 - 9s - loss: 0.1689 - accuracy: 0.9433 - val_loss: 0.1536 - val_accuracy: 0.9526 - 9s/epoch - 19ms/step\n",
            "Epoch 15/50\n",
            "493/493 - 9s - loss: 0.1632 - accuracy: 0.9451 - val_loss: 0.1500 - val_accuracy: 0.9531 - 9s/epoch - 19ms/step\n",
            "Epoch 16/50\n",
            "493/493 - 9s - loss: 0.1594 - accuracy: 0.9445 - val_loss: 0.1467 - val_accuracy: 0.9549 - 9s/epoch - 19ms/step\n",
            "Epoch 17/50\n",
            "493/493 - 9s - loss: 0.1565 - accuracy: 0.9443 - val_loss: 0.1439 - val_accuracy: 0.9549 - 9s/epoch - 19ms/step\n",
            "Epoch 18/50\n",
            "493/493 - 10s - loss: 0.1510 - accuracy: 0.9469 - val_loss: 0.1406 - val_accuracy: 0.9543 - 10s/epoch - 19ms/step\n",
            "Epoch 19/50\n",
            "493/493 - 9s - loss: 0.1507 - accuracy: 0.9473 - val_loss: 0.1384 - val_accuracy: 0.9554 - 9s/epoch - 19ms/step\n",
            "Epoch 20/50\n",
            "493/493 - 9s - loss: 0.1480 - accuracy: 0.9476 - val_loss: 0.1359 - val_accuracy: 0.9554 - 9s/epoch - 19ms/step\n",
            "Epoch 21/50\n",
            "493/493 - 9s - loss: 0.1455 - accuracy: 0.9483 - val_loss: 0.1340 - val_accuracy: 0.9571 - 9s/epoch - 19ms/step\n",
            "Epoch 22/50\n",
            "493/493 - 10s - loss: 0.1435 - accuracy: 0.9487 - val_loss: 0.1320 - val_accuracy: 0.9571 - 10s/epoch - 19ms/step\n",
            "Epoch 23/50\n",
            "493/493 - 9s - loss: 0.1405 - accuracy: 0.9503 - val_loss: 0.1297 - val_accuracy: 0.9560 - 9s/epoch - 19ms/step\n",
            "Epoch 24/50\n",
            "493/493 - 10s - loss: 0.1391 - accuracy: 0.9495 - val_loss: 0.1279 - val_accuracy: 0.9566 - 10s/epoch - 19ms/step\n",
            "Epoch 25/50\n",
            "493/493 - 10s - loss: 0.1361 - accuracy: 0.9510 - val_loss: 0.1266 - val_accuracy: 0.9571 - 10s/epoch - 20ms/step\n",
            "Epoch 26/50\n",
            "493/493 - 9s - loss: 0.1364 - accuracy: 0.9521 - val_loss: 0.1249 - val_accuracy: 0.9566 - 9s/epoch - 19ms/step\n",
            "Epoch 27/50\n",
            "493/493 - 9s - loss: 0.1348 - accuracy: 0.9516 - val_loss: 0.1243 - val_accuracy: 0.9571 - 9s/epoch - 19ms/step\n",
            "Epoch 28/50\n",
            "493/493 - 10s - loss: 0.1328 - accuracy: 0.9530 - val_loss: 0.1227 - val_accuracy: 0.9577 - 10s/epoch - 19ms/step\n",
            "Epoch 29/50\n",
            "493/493 - 9s - loss: 0.1317 - accuracy: 0.9523 - val_loss: 0.1211 - val_accuracy: 0.9571 - 9s/epoch - 19ms/step\n",
            "Epoch 30/50\n",
            "493/493 - 9s - loss: 0.1295 - accuracy: 0.9537 - val_loss: 0.1198 - val_accuracy: 0.9577 - 9s/epoch - 19ms/step\n",
            "Epoch 31/50\n",
            "493/493 - 9s - loss: 0.1280 - accuracy: 0.9533 - val_loss: 0.1190 - val_accuracy: 0.9589 - 9s/epoch - 19ms/step\n",
            "Epoch 32/50\n",
            "493/493 - 9s - loss: 0.1270 - accuracy: 0.9535 - val_loss: 0.1172 - val_accuracy: 0.9571 - 9s/epoch - 19ms/step\n",
            "Epoch 33/50\n",
            "493/493 - 9s - loss: 0.1257 - accuracy: 0.9545 - val_loss: 0.1160 - val_accuracy: 0.9571 - 9s/epoch - 19ms/step\n",
            "Epoch 34/50\n",
            "493/493 - 10s - loss: 0.1236 - accuracy: 0.9549 - val_loss: 0.1151 - val_accuracy: 0.9560 - 10s/epoch - 19ms/step\n",
            "Epoch 35/50\n",
            "493/493 - 9s - loss: 0.1229 - accuracy: 0.9542 - val_loss: 0.1143 - val_accuracy: 0.9560 - 9s/epoch - 19ms/step\n",
            "Epoch 36/50\n",
            "493/493 - 9s - loss: 0.1227 - accuracy: 0.9550 - val_loss: 0.1133 - val_accuracy: 0.9571 - 9s/epoch - 19ms/step\n",
            "Epoch 37/50\n",
            "493/493 - 9s - loss: 0.1226 - accuracy: 0.9565 - val_loss: 0.1129 - val_accuracy: 0.9577 - 9s/epoch - 19ms/step\n",
            "Epoch 38/50\n",
            "493/493 - 9s - loss: 0.1208 - accuracy: 0.9568 - val_loss: 0.1117 - val_accuracy: 0.9577 - 9s/epoch - 19ms/step\n",
            "Epoch 39/50\n",
            "493/493 - 10s - loss: 0.1202 - accuracy: 0.9566 - val_loss: 0.1112 - val_accuracy: 0.9577 - 10s/epoch - 20ms/step\n",
            "Epoch 40/50\n",
            "493/493 - 9s - loss: 0.1186 - accuracy: 0.9563 - val_loss: 0.1102 - val_accuracy: 0.9583 - 9s/epoch - 19ms/step\n",
            "Epoch 41/50\n",
            "493/493 - 9s - loss: 0.1180 - accuracy: 0.9570 - val_loss: 0.1097 - val_accuracy: 0.9594 - 9s/epoch - 19ms/step\n",
            "Epoch 42/50\n",
            "493/493 - 10s - loss: 0.1171 - accuracy: 0.9573 - val_loss: 0.1082 - val_accuracy: 0.9589 - 10s/epoch - 19ms/step\n",
            "Epoch 43/50\n",
            "493/493 - 9s - loss: 0.1182 - accuracy: 0.9566 - val_loss: 0.1077 - val_accuracy: 0.9583 - 9s/epoch - 19ms/step\n",
            "Epoch 44/50\n",
            "493/493 - 10s - loss: 0.1154 - accuracy: 0.9578 - val_loss: 0.1075 - val_accuracy: 0.9600 - 10s/epoch - 19ms/step\n",
            "Epoch 45/50\n",
            "493/493 - 10s - loss: 0.1149 - accuracy: 0.9582 - val_loss: 0.1069 - val_accuracy: 0.9606 - 10s/epoch - 19ms/step\n",
            "Epoch 46/50\n",
            "493/493 - 10s - loss: 0.1129 - accuracy: 0.9589 - val_loss: 0.1060 - val_accuracy: 0.9589 - 10s/epoch - 19ms/step\n",
            "Epoch 47/50\n",
            "493/493 - 10s - loss: 0.1132 - accuracy: 0.9607 - val_loss: 0.1054 - val_accuracy: 0.9594 - 10s/epoch - 19ms/step\n",
            "Epoch 48/50\n",
            "493/493 - 10s - loss: 0.1130 - accuracy: 0.9577 - val_loss: 0.1053 - val_accuracy: 0.9629 - 10s/epoch - 19ms/step\n",
            "Epoch 49/50\n",
            "493/493 - 10s - loss: 0.1103 - accuracy: 0.9597 - val_loss: 0.1039 - val_accuracy: 0.9594 - 10s/epoch - 19ms/step\n",
            "Epoch 50/50\n",
            "493/493 - 10s - loss: 0.1108 - accuracy: 0.9597 - val_loss: 0.1036 - val_accuracy: 0.9600 - 10s/epoch - 19ms/step\n",
            "CPU times: user 3min 35s, sys: 24.8 s, total: 4min\n",
            "Wall time: 8min 22s\n"
          ]
        }
      ]
    },
    {
      "cell_type": "code",
      "source": [
        "with open('history.json', 'w') as f:\n",
        "    json.dump(history.history, f)\n",
        "\n",
        "history_df = pd.DataFrame(history.history)\n",
        "history_df[['loss', 'val_loss']].plot()\n"
      ],
      "metadata": {
        "colab": {
          "base_uri": "https://localhost:8080/",
          "height": 283
        },
        "id": "qrImH_S5iX2W",
        "outputId": "37b28602-27ec-433c-91e0-a6d3f3142ae5"
      },
      "execution_count": null,
      "outputs": [
        {
          "output_type": "execute_result",
          "data": {
            "text/plain": [
              "<matplotlib.axes._subplots.AxesSubplot at 0x7fd82907a890>"
            ]
          },
          "metadata": {},
          "execution_count": 21
        },
        {
          "output_type": "display_data",
          "data": {
            "text/plain": [
              "<Figure size 432x288 with 1 Axes>"
            ],
            "image/png": "[encoded data removed]"
          },
          "metadata": {
            "needs_background": "light"
          }
        }
      ]
    },
    {
      "cell_type": "code",
      "source": [
        "%%time\n",
        "X_tst = []\n",
        "Test_imgs = []\n",
        "for img_id in tqdm_notebook(os.listdir(test_dir)):\n",
        "    X_tst.append(cv2.imread(test_dir + img_id))     \n",
        "    Test_imgs.append(img_id)\n",
        "X_tst = np.asarray(X_tst)\n",
        "X_tst = X_tst.astype('float32')\n",
        "X_tst /= 255"
      ],
      "metadata": {
        "colab": {
          "base_uri": "https://localhost:8080/",
          "height": 161,
          "referenced_widgets": [
            "a06829162b854806a790a37b43f6afc1",
            "ab635ffeaf054a478180824668eb05ed",
            "f68b06b6dc92420bbd576bbeecf9f971",
            "21f2346a6e3d481eacde43a739667be0",
            "31aecffcd26f427b87c789c445560b29",
            "353af514139c48e694ab3b0e37c75e1f",
            "dbe606d69023440d98faa1ae912d4120",
            "0d736bbf6a86497baa5cf936490bb0c8",
            "3dd93beb97064d5a8824377ea119c287",
            "dbef27b6e7234890986034d4c1c825a3",
            "dd3626076a734549813dc4ff9c367762"
          ]
        },
        "id": "zBKFlVtdidyu",
        "outputId": "d10986a8-a91a-48e0-8317-b937349a9c6b"
      },
      "execution_count": null,
      "outputs": [
        {
          "output_type": "stream",
          "name": "stderr",
          "text": [
            "/usr/local/lib/python3.7/dist-packages/ipykernel_launcher.py:3: TqdmDeprecationWarning: This function will be removed in tqdm==5.0.0\n",
            "Please use `tqdm.notebook.tqdm` instead of `tqdm.tqdm_notebook`\n",
            "  This is separate from the ipykernel package so we can avoid doing imports until\n"
          ]
        },
        {
          "output_type": "display_data",
          "data": {
            "text/plain": [
              "  0%|          | 0/4000 [00:00<?, ?it/s]"
            ],
            "application/vnd.jupyter.widget-view+json": {
              "version_major": 2,
              "version_minor": 0,
              "model_id": "a06829162b854806a790a37b43f6afc1"
            }
          },
          "metadata": {}
        },
        {
          "output_type": "stream",
          "name": "stdout",
          "text": [
            "CPU times: user 293 ms, sys: 157 ms, total: 450 ms\n",
            "Wall time: 450 ms\n"
          ]
        }
      ]
    },
    {
      "cell_type": "code",
      "source": [
        "plt.plot(history.history['accuracy'])\n",
        "plt.plot(history.history['val_accuracy'])\n",
        "plt.title('model accuracy')\n",
        "plt.ylabel('accuracy')\n",
        "plt.xlabel('epoch')\n",
        "plt.legend(['train', 'val'])\n",
        "plt.show()"
      ],
      "metadata": {
        "colab": {
          "base_uri": "https://localhost:8080/",
          "height": 294
        },
        "id": "lHZXAvaNskkS",
        "outputId": "8fcd4260-74ae-43ff-a631-476ec7c97d7b"
      },
      "execution_count": null,
      "outputs": [
        {
          "output_type": "display_data",
          "data": {
            "text/plain": [
              "<Figure size 432x288 with 1 Axes>"
            ],
            "image/png": "[encoded data removed]"
          },
          "metadata": {
            "needs_background": "light"
          }
        }
      ]
    }
  ]
}